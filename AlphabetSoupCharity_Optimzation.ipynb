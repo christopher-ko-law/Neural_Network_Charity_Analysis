{
 "cells": [
  {
<<<<<<< HEAD
   "cell_type": "code",
   "execution_count": 63,
   "source": [
    "# Import our dependencies\n",
    "import os\n",
    "from sklearn.model_selection import train_test_split\n",
    "from sklearn.preprocessing import StandardScaler,OneHotEncoder\n",
    "import pandas as pd\n",
    "import tensorflow as tf\n",
    "\n",
    "#  Import and read the charity_data.csv.\n",
    "import pandas as pd \n",
    "application_df = pd.read_csv(\"Resources/charity_data.csv\")\n",
    "application_df.head()"
   ],
=======
   "cell_type": "markdown",
   "metadata": {},
   "source": [
    "### Deliverable 1: Preprocessing the Data for a Neural Network"
   ]
  },
  {
   "cell_type": "code",
   "execution_count": 1,
   "metadata": {},
>>>>>>> 8d7fa2142bd7a86e5fa448db46b8032999331c4e
   "outputs": [
    {
     "data": {
      "text/html": [
       "<div>\n",
       "<style scoped>\n",
       "    .dataframe tbody tr th:only-of-type {\n",
       "        vertical-align: middle;\n",
       "    }\n",
       "\n",
       "    .dataframe tbody tr th {\n",
       "        vertical-align: top;\n",
       "    }\n",
       "\n",
       "    .dataframe thead th {\n",
       "        text-align: right;\n",
       "    }\n",
       "</style>\n",
       "<table border=\"1\" class=\"dataframe\">\n",
       "  <thead>\n",
       "    <tr style=\"text-align: right;\">\n",
       "      <th></th>\n",
       "      <th>EIN</th>\n",
       "      <th>NAME</th>\n",
       "      <th>APPLICATION_TYPE</th>\n",
       "      <th>AFFILIATION</th>\n",
       "      <th>CLASSIFICATION</th>\n",
       "      <th>USE_CASE</th>\n",
       "      <th>ORGANIZATION</th>\n",
       "      <th>STATUS</th>\n",
       "      <th>INCOME_AMT</th>\n",
       "      <th>SPECIAL_CONSIDERATIONS</th>\n",
       "      <th>ASK_AMT</th>\n",
       "      <th>IS_SUCCESSFUL</th>\n",
       "    </tr>\n",
       "  </thead>\n",
       "  <tbody>\n",
       "    <tr>\n",
       "      <th>0</th>\n",
       "      <td>10520599</td>\n",
       "      <td>BLUE KNIGHTS MOTORCYCLE CLUB</td>\n",
       "      <td>T10</td>\n",
       "      <td>Independent</td>\n",
       "      <td>C1000</td>\n",
       "      <td>ProductDev</td>\n",
       "      <td>Association</td>\n",
       "      <td>1</td>\n",
       "      <td>0</td>\n",
       "      <td>N</td>\n",
       "      <td>5000</td>\n",
       "      <td>1</td>\n",
       "    </tr>\n",
       "    <tr>\n",
       "      <th>1</th>\n",
       "      <td>10531628</td>\n",
       "      <td>AMERICAN CHESAPEAKE CLUB CHARITABLE TR</td>\n",
       "      <td>T3</td>\n",
       "      <td>Independent</td>\n",
       "      <td>C2000</td>\n",
       "      <td>Preservation</td>\n",
       "      <td>Co-operative</td>\n",
       "      <td>1</td>\n",
       "      <td>1-9999</td>\n",
       "      <td>N</td>\n",
       "      <td>108590</td>\n",
       "      <td>1</td>\n",
       "    </tr>\n",
       "    <tr>\n",
       "      <th>2</th>\n",
       "      <td>10547893</td>\n",
       "      <td>ST CLOUD PROFESSIONAL FIREFIGHTERS</td>\n",
       "      <td>T5</td>\n",
       "      <td>CompanySponsored</td>\n",
       "      <td>C3000</td>\n",
       "      <td>ProductDev</td>\n",
       "      <td>Association</td>\n",
       "      <td>1</td>\n",
       "      <td>0</td>\n",
       "      <td>N</td>\n",
       "      <td>5000</td>\n",
       "      <td>0</td>\n",
       "    </tr>\n",
       "    <tr>\n",
       "      <th>3</th>\n",
       "      <td>10553066</td>\n",
       "      <td>SOUTHSIDE ATHLETIC ASSOCIATION</td>\n",
       "      <td>T3</td>\n",
       "      <td>CompanySponsored</td>\n",
       "      <td>C2000</td>\n",
       "      <td>Preservation</td>\n",
       "      <td>Trust</td>\n",
       "      <td>1</td>\n",
       "      <td>10000-24999</td>\n",
       "      <td>N</td>\n",
       "      <td>6692</td>\n",
       "      <td>1</td>\n",
       "    </tr>\n",
       "    <tr>\n",
       "      <th>4</th>\n",
       "      <td>10556103</td>\n",
       "      <td>GENETIC RESEARCH INSTITUTE OF THE DESERT</td>\n",
       "      <td>T3</td>\n",
       "      <td>Independent</td>\n",
       "      <td>C1000</td>\n",
       "      <td>Heathcare</td>\n",
       "      <td>Trust</td>\n",
       "      <td>1</td>\n",
       "      <td>100000-499999</td>\n",
       "      <td>N</td>\n",
       "      <td>142590</td>\n",
       "      <td>1</td>\n",
       "    </tr>\n",
       "  </tbody>\n",
       "</table>\n",
       "</div>"
      ],
      "text/plain": [
       "        EIN                                      NAME APPLICATION_TYPE  \\\n",
       "0  10520599              BLUE KNIGHTS MOTORCYCLE CLUB              T10   \n",
       "1  10531628    AMERICAN CHESAPEAKE CLUB CHARITABLE TR               T3   \n",
       "2  10547893        ST CLOUD PROFESSIONAL FIREFIGHTERS               T5   \n",
       "3  10553066            SOUTHSIDE ATHLETIC ASSOCIATION               T3   \n",
       "4  10556103  GENETIC RESEARCH INSTITUTE OF THE DESERT               T3   \n",
       "\n",
       "        AFFILIATION CLASSIFICATION      USE_CASE  ORGANIZATION  STATUS  \\\n",
       "0       Independent          C1000    ProductDev   Association       1   \n",
       "1       Independent          C2000  Preservation  Co-operative       1   \n",
       "2  CompanySponsored          C3000    ProductDev   Association       1   \n",
       "3  CompanySponsored          C2000  Preservation         Trust       1   \n",
       "4       Independent          C1000     Heathcare         Trust       1   \n",
       "\n",
       "      INCOME_AMT SPECIAL_CONSIDERATIONS  ASK_AMT  IS_SUCCESSFUL  \n",
       "0              0                      N     5000              1  \n",
       "1         1-9999                      N   108590              1  \n",
       "2              0                      N     5000              0  \n",
       "3    10000-24999                      N     6692              1  \n",
       "4  100000-499999                      N   142590              1  "
      ]
     },
     "execution_count": 1,
     "metadata": {},
<<<<<<< HEAD
     "execution_count": 63
=======
     "output_type": "execute_result"
>>>>>>> 8d7fa2142bd7a86e5fa448db46b8032999331c4e
    }
   ],
   "source": [
    "# Import our dependencies\n",
    "import os\n",
    "from sklearn.model_selection import train_test_split\n",
    "from sklearn.preprocessing import StandardScaler,OneHotEncoder\n",
    "import pandas as pd\n",
    "import tensorflow as tf\n",
    "\n",
    "#  Import and read the charity_data.csv.\n",
    "import pandas as pd \n",
    "application_df = pd.read_csv(\"Resources/charity_data.csv\")\n",
    "application_df.head()"
   ]
  },
  {
   "cell_type": "code",
<<<<<<< HEAD
   "execution_count": 64,
   "source": [
    "# Drop the non-beneficial ID columns, 'EIN' and 'NAME'.\n",
    "application_df = application_df.drop(columns=['EIN','NAME'])\n",
    "application_df.head()"
   ],
=======
   "execution_count": 2,
   "metadata": {},
>>>>>>> 8d7fa2142bd7a86e5fa448db46b8032999331c4e
   "outputs": [
    {
     "data": {
      "text/html": [
       "<div>\n",
       "<style scoped>\n",
       "    .dataframe tbody tr th:only-of-type {\n",
       "        vertical-align: middle;\n",
       "    }\n",
       "\n",
       "    .dataframe tbody tr th {\n",
       "        vertical-align: top;\n",
       "    }\n",
       "\n",
       "    .dataframe thead th {\n",
       "        text-align: right;\n",
       "    }\n",
       "</style>\n",
       "<table border=\"1\" class=\"dataframe\">\n",
       "  <thead>\n",
       "    <tr style=\"text-align: right;\">\n",
       "      <th></th>\n",
       "      <th>APPLICATION_TYPE</th>\n",
       "      <th>AFFILIATION</th>\n",
       "      <th>CLASSIFICATION</th>\n",
       "      <th>USE_CASE</th>\n",
       "      <th>ORGANIZATION</th>\n",
       "      <th>STATUS</th>\n",
       "      <th>INCOME_AMT</th>\n",
       "      <th>SPECIAL_CONSIDERATIONS</th>\n",
       "      <th>ASK_AMT</th>\n",
       "      <th>IS_SUCCESSFUL</th>\n",
       "    </tr>\n",
       "  </thead>\n",
       "  <tbody>\n",
       "    <tr>\n",
       "      <th>0</th>\n",
       "      <td>T10</td>\n",
       "      <td>Independent</td>\n",
       "      <td>C1000</td>\n",
       "      <td>ProductDev</td>\n",
       "      <td>Association</td>\n",
       "      <td>1</td>\n",
       "      <td>0</td>\n",
       "      <td>N</td>\n",
       "      <td>5000</td>\n",
       "      <td>1</td>\n",
       "    </tr>\n",
       "    <tr>\n",
       "      <th>1</th>\n",
       "      <td>T3</td>\n",
       "      <td>Independent</td>\n",
       "      <td>C2000</td>\n",
       "      <td>Preservation</td>\n",
       "      <td>Co-operative</td>\n",
       "      <td>1</td>\n",
       "      <td>1-9999</td>\n",
       "      <td>N</td>\n",
       "      <td>108590</td>\n",
       "      <td>1</td>\n",
       "    </tr>\n",
       "    <tr>\n",
       "      <th>2</th>\n",
       "      <td>T5</td>\n",
       "      <td>CompanySponsored</td>\n",
       "      <td>C3000</td>\n",
       "      <td>ProductDev</td>\n",
       "      <td>Association</td>\n",
       "      <td>1</td>\n",
       "      <td>0</td>\n",
       "      <td>N</td>\n",
       "      <td>5000</td>\n",
       "      <td>0</td>\n",
       "    </tr>\n",
       "    <tr>\n",
       "      <th>3</th>\n",
       "      <td>T3</td>\n",
       "      <td>CompanySponsored</td>\n",
       "      <td>C2000</td>\n",
       "      <td>Preservation</td>\n",
       "      <td>Trust</td>\n",
       "      <td>1</td>\n",
       "      <td>10000-24999</td>\n",
       "      <td>N</td>\n",
       "      <td>6692</td>\n",
       "      <td>1</td>\n",
       "    </tr>\n",
       "    <tr>\n",
       "      <th>4</th>\n",
       "      <td>T3</td>\n",
       "      <td>Independent</td>\n",
       "      <td>C1000</td>\n",
       "      <td>Heathcare</td>\n",
       "      <td>Trust</td>\n",
       "      <td>1</td>\n",
       "      <td>100000-499999</td>\n",
       "      <td>N</td>\n",
       "      <td>142590</td>\n",
       "      <td>1</td>\n",
       "    </tr>\n",
       "  </tbody>\n",
       "</table>\n",
       "</div>"
      ],
      "text/plain": [
       "  APPLICATION_TYPE       AFFILIATION CLASSIFICATION      USE_CASE  \\\n",
       "0              T10       Independent          C1000    ProductDev   \n",
       "1               T3       Independent          C2000  Preservation   \n",
       "2               T5  CompanySponsored          C3000    ProductDev   \n",
       "3               T3  CompanySponsored          C2000  Preservation   \n",
       "4               T3       Independent          C1000     Heathcare   \n",
       "\n",
       "   ORGANIZATION  STATUS     INCOME_AMT SPECIAL_CONSIDERATIONS  ASK_AMT  \\\n",
       "0   Association       1              0                      N     5000   \n",
       "1  Co-operative       1         1-9999                      N   108590   \n",
       "2   Association       1              0                      N     5000   \n",
       "3         Trust       1    10000-24999                      N     6692   \n",
       "4         Trust       1  100000-499999                      N   142590   \n",
       "\n",
       "   IS_SUCCESSFUL  \n",
       "0              1  \n",
       "1              1  \n",
       "2              0  \n",
       "3              1  \n",
       "4              1  "
      ]
     },
     "execution_count": 2,
     "metadata": {},
<<<<<<< HEAD
     "execution_count": 64
=======
     "output_type": "execute_result"
>>>>>>> 8d7fa2142bd7a86e5fa448db46b8032999331c4e
    }
   ],
   "source": [
    "# Drop the non-beneficial ID columns, 'EIN' and 'NAME'.\n",
    "application_df = application_df.drop(columns=['EIN','NAME'])\n",
    "application_df.head()"
   ]
  },
  {
   "cell_type": "code",
<<<<<<< HEAD
   "execution_count": 65,
   "source": [
    "# Determine the number of unique values in each column.\n",
    "application_df.nunique()"
   ],
=======
   "execution_count": 3,
   "metadata": {},
>>>>>>> 8d7fa2142bd7a86e5fa448db46b8032999331c4e
   "outputs": [
    {
     "data": {
      "text/plain": [
       "APPLICATION_TYPE            17\n",
       "AFFILIATION                  6\n",
       "CLASSIFICATION              71\n",
       "USE_CASE                     5\n",
       "ORGANIZATION                 4\n",
       "STATUS                       2\n",
       "INCOME_AMT                   9\n",
       "SPECIAL_CONSIDERATIONS       2\n",
       "ASK_AMT                   8747\n",
       "IS_SUCCESSFUL                2\n",
       "dtype: int64"
      ]
     },
     "execution_count": 3,
     "metadata": {},
<<<<<<< HEAD
     "execution_count": 65
    }
   ],
   "metadata": {}
  },
  {
   "cell_type": "code",
   "execution_count": 66,
   "source": [
    "# Look at SPECIAL_CONSIDERATIONS\n",
    "special_consideration_counts = application_df.SPECIAL_CONSIDERATIONS.value_counts()\n",
    "special_consideration_counts"
   ],
   "outputs": [
    {
     "output_type": "execute_result",
     "data": {
      "text/plain": [
       "N    34272\n",
       "Y       27\n",
       "Name: SPECIAL_CONSIDERATIONS, dtype: int64"
      ]
     },
     "metadata": {},
     "execution_count": 66
    }
   ],
   "metadata": {}
  },
  {
   "cell_type": "code",
   "execution_count": 67,
   "source": [
    "# Look at STATUS\n",
    "status_counts = application_df.STATUS.value_counts()\n",
    "status_counts"
   ],
   "outputs": [
    {
     "output_type": "execute_result",
     "data": {
      "text/plain": [
       "1    34294\n",
       "0        5\n",
       "Name: STATUS, dtype: int64"
      ]
     },
     "metadata": {},
     "execution_count": 67
=======
     "output_type": "execute_result"
>>>>>>> 8d7fa2142bd7a86e5fa448db46b8032999331c4e
    }
   ],
   "source": [
    "# Determine the number of unique values in each column.\n",
    "application_df.nunique()"
   ]
  },
  {
   "cell_type": "code",
<<<<<<< HEAD
   "execution_count": 68,
   "source": [
    "# Drop Special Considerations and Status\n",
    "# application_df = application_df.drop(columns=['SPECIAL_CONSIDERATIONS','STATUS'])"
   ],
   "outputs": [],
   "metadata": {}
  },
  {
   "cell_type": "code",
   "execution_count": 69,
   "source": [
    "# Look at affiliation\n",
    "affiliation_count = application_df.AFFILIATION.value_counts()\n",
    "affiliation_count"
   ],
   "outputs": [
    {
     "output_type": "execute_result",
     "data": {
      "text/plain": [
       "Independent         18480\n",
       "CompanySponsored    15705\n",
       "Family/Parent          64\n",
       "National               33\n",
       "Regional               13\n",
       "Other                   4\n",
       "Name: AFFILIATION, dtype: int64"
      ]
     },
     "metadata": {},
     "execution_count": 69
    }
   ],
   "metadata": {}
  },
  {
   "cell_type": "code",
   "execution_count": 70,
   "source": [
    "\n",
    "#Determine which values to replace if counts are less than ...?\n",
    "replace_affiliation = list(affiliation_count[affiliation_count<1000].index)\n",
    "\n",
    "# Replace in dataframe\n",
    "for app in replace_affiliation:\n",
    "    application_df.AFFILIATION = application_df.AFFILIATION.replace(app,\"Other\")\n",
    "    \n",
    "# Check to make sure binning was successful\n",
    "application_df.AFFILIATION.value_counts()"
   ],
   "outputs": [
    {
     "output_type": "execute_result",
     "data": {
      "text/plain": [
       "Independent         18480\n",
       "CompanySponsored    15705\n",
       "Other                 114\n",
       "Name: AFFILIATION, dtype: int64"
      ]
     },
     "metadata": {},
     "execution_count": 70
    }
   ],
   "metadata": {}
  },
  {
   "cell_type": "code",
   "execution_count": 71,
   "source": [
    "# Look at APPLICATION_TYPE value counts for binning\n",
    "application_type_counts = application_df.APPLICATION_TYPE.value_counts()\n",
    "application_type_counts"
   ],
=======
   "execution_count": 4,
   "metadata": {},
>>>>>>> 8d7fa2142bd7a86e5fa448db46b8032999331c4e
   "outputs": [
    {
     "data": {
      "text/plain": [
       "T3     27037\n",
       "T4      1542\n",
       "T6      1216\n",
       "T5      1173\n",
       "T19     1065\n",
       "T8       737\n",
       "T7       725\n",
       "T10      528\n",
       "T9       156\n",
       "T13       66\n",
       "T12       27\n",
       "T2        16\n",
       "T25        3\n",
       "T14        3\n",
       "T15        2\n",
       "T29        2\n",
       "T17        1\n",
       "Name: APPLICATION_TYPE, dtype: int64"
      ]
     },
     "execution_count": 4,
     "metadata": {},
<<<<<<< HEAD
     "execution_count": 71
=======
     "output_type": "execute_result"
>>>>>>> 8d7fa2142bd7a86e5fa448db46b8032999331c4e
    }
   ],
   "source": [
    "# Look at APPLICATION_TYPE value counts for binning\n",
    "application_type_counts = application_df.APPLICATION_TYPE.value_counts()\n",
    "application_type_counts"
   ]
  },
  {
   "cell_type": "code",
<<<<<<< HEAD
   "execution_count": 72,
   "source": [
    "# Visualize the value counts of APPLICATION_TYPE\n",
    "application_type_counts.plot.density()"
   ],
=======
   "execution_count": 5,
   "metadata": {},
>>>>>>> 8d7fa2142bd7a86e5fa448db46b8032999331c4e
   "outputs": [
    {
     "data": {
      "text/plain": [
       "<matplotlib.axes._subplots.AxesSubplot at 0x7fa01a21a828>"
      ]
     },
     "execution_count": 5,
     "metadata": {},
<<<<<<< HEAD
     "execution_count": 72
=======
     "output_type": "execute_result"
>>>>>>> 8d7fa2142bd7a86e5fa448db46b8032999331c4e
    },
    {
     "data": {
      "image/png": "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\n",
      "text/plain": [
       "<Figure size 432x288 with 1 Axes>"
<<<<<<< HEAD
      ],
      "image/svg+xml": "<?xml version=\"1.0\" encoding=\"utf-8\" standalone=\"no\"?>\n<!DOCTYPE svg PUBLIC \"-//W3C//DTD SVG 1.1//EN\"\n  \"http://www.w3.org/Graphics/SVG/1.1/DTD/svg11.dtd\">\n<!-- Created with matplotlib (https://matplotlib.org/) -->\n<svg height=\"248.518125pt\" version=\"1.1\" viewBox=\"0 0 411.23125 248.518125\" width=\"411.23125pt\" xmlns=\"http://www.w3.org/2000/svg\" xmlns:xlink=\"http://www.w3.org/1999/xlink\">\n <metadata>\n  <rdf:RDF xmlns:cc=\"http://creativecommons.org/ns#\" xmlns:dc=\"http://purl.org/dc/elements/1.1/\" xmlns:rdf=\"http://www.w3.org/1999/02/22-rdf-syntax-ns#\">\n   <cc:Work>\n    <dc:type rdf:resource=\"http://purl.org/dc/dcmitype/StillImage\"/>\n    <dc:date>2021-08-30T18:31:17.532865</dc:date>\n    <dc:format>image/svg+xml</dc:format>\n    <dc:creator>\n     <cc:Agent>\n      <dc:title>Matplotlib v3.3.4, https://matplotlib.org/</dc:title>\n     </cc:Agent>\n    </dc:creator>\n   </cc:Work>\n  </rdf:RDF>\n </metadata>\n <defs>\n  <style type=\"text/css\">*{stroke-linecap:butt;stroke-linejoin:round;}</style>\n </defs>\n <g id=\"figure_1\">\n  <g id=\"patch_1\">\n   <path d=\"M 0 248.518125 \nL 411.23125 248.518125 \nL 411.23125 0 \nL 0 0 \nz\n\" style=\"fill:none;\"/>\n  </g>\n  <g id=\"axes_1\">\n   <g id=\"patch_2\">\n    <path d=\"M 69.23125 224.64 \nL 404.03125 224.64 \nL 404.03125 7.2 \nL 69.23125 7.2 \nz\n\" style=\"fill:#ffffff;\"/>\n   </g>\n   <g id=\"matplotlib.axis_1\">\n    <g id=\"xtick_1\">\n     <g id=\"line2d_1\">\n      <defs>\n       <path d=\"M 0 0 \nL 0 3.5 \n\" id=\"m35e67d3180\" style=\"stroke:#000000;stroke-width:0.8;\"/>\n      </defs>\n      <g>\n       <use style=\"stroke:#000000;stroke-width:0.8;\" x=\"104.246127\" xlink:href=\"#m35e67d3180\" y=\"224.64\"/>\n      </g>\n     </g>\n     <g id=\"text_1\">\n      <!-- −10000 -->\n      <g transform=\"translate(84.150033 239.238437)scale(0.1 -0.1)\">\n       <defs>\n        <path d=\"M 10.59375 35.5 \nL 73.1875 35.5 \nL 73.1875 27.203125 \nL 10.59375 27.203125 \nz\n\" id=\"DejaVuSans-8722\"/>\n        <path d=\"M 12.40625 8.296875 \nL 28.515625 8.296875 \nL 28.515625 63.921875 \nL 10.984375 60.40625 \nL 10.984375 69.390625 \nL 28.421875 72.90625 \nL 38.28125 72.90625 \nL 38.28125 8.296875 \nL 54.390625 8.296875 \nL 54.390625 0 \nL 12.40625 0 \nz\n\" id=\"DejaVuSans-49\"/>\n        <path d=\"M 31.78125 66.40625 \nQ 24.171875 66.40625 20.328125 58.90625 \nQ 16.5 51.421875 16.5 36.375 \nQ 16.5 21.390625 20.328125 13.890625 \nQ 24.171875 6.390625 31.78125 6.390625 \nQ 39.453125 6.390625 43.28125 13.890625 \nQ 47.125 21.390625 47.125 36.375 \nQ 47.125 51.421875 43.28125 58.90625 \nQ 39.453125 66.40625 31.78125 66.40625 \nz\nM 31.78125 74.21875 \nQ 44.046875 74.21875 50.515625 64.515625 \nQ 56.984375 54.828125 56.984375 36.375 \nQ 56.984375 17.96875 50.515625 8.265625 \nQ 44.046875 -1.421875 31.78125 -1.421875 \nQ 19.53125 -1.421875 13.0625 8.265625 \nQ 6.59375 17.96875 6.59375 36.375 \nQ 6.59375 54.828125 13.0625 64.515625 \nQ 19.53125 74.21875 31.78125 74.21875 \nz\n\" id=\"DejaVuSans-48\"/>\n       </defs>\n       <use xlink:href=\"#DejaVuSans-8722\"/>\n       <use x=\"83.789062\" xlink:href=\"#DejaVuSans-49\"/>\n       <use x=\"147.412109\" xlink:href=\"#DejaVuSans-48\"/>\n       <use x=\"211.035156\" xlink:href=\"#DejaVuSans-48\"/>\n       <use x=\"274.658203\" xlink:href=\"#DejaVuSans-48\"/>\n       <use x=\"338.28125\" xlink:href=\"#DejaVuSans-48\"/>\n      </g>\n     </g>\n    </g>\n    <g id=\"xtick_2\">\n     <g id=\"line2d_2\">\n      <g>\n       <use style=\"stroke:#000000;stroke-width:0.8;\" x=\"160.534712\" xlink:href=\"#m35e67d3180\" y=\"224.64\"/>\n      </g>\n     </g>\n     <g id=\"text_2\">\n      <!-- 0 -->\n      <g transform=\"translate(157.353462 239.238437)scale(0.1 -0.1)\">\n       <use xlink:href=\"#DejaVuSans-48\"/>\n      </g>\n     </g>\n    </g>\n    <g id=\"xtick_3\">\n     <g id=\"line2d_3\">\n      <g>\n       <use style=\"stroke:#000000;stroke-width:0.8;\" x=\"216.823297\" xlink:href=\"#m35e67d3180\" y=\"224.64\"/>\n      </g>\n     </g>\n     <g id=\"text_3\">\n      <!-- 10000 -->\n      <g transform=\"translate(200.917047 239.238437)scale(0.1 -0.1)\">\n       <use xlink:href=\"#DejaVuSans-49\"/>\n       <use x=\"63.623047\" xlink:href=\"#DejaVuSans-48\"/>\n       <use x=\"127.246094\" xlink:href=\"#DejaVuSans-48\"/>\n       <use x=\"190.869141\" xlink:href=\"#DejaVuSans-48\"/>\n       <use x=\"254.492188\" xlink:href=\"#DejaVuSans-48\"/>\n      </g>\n     </g>\n    </g>\n    <g id=\"xtick_4\">\n     <g id=\"line2d_4\">\n      <g>\n       <use style=\"stroke:#000000;stroke-width:0.8;\" x=\"273.111882\" xlink:href=\"#m35e67d3180\" y=\"224.64\"/>\n      </g>\n     </g>\n     <g id=\"text_4\">\n      <!-- 20000 -->\n      <g transform=\"translate(257.205632 239.238437)scale(0.1 -0.1)\">\n       <defs>\n        <path d=\"M 19.1875 8.296875 \nL 53.609375 8.296875 \nL 53.609375 0 \nL 7.328125 0 \nL 7.328125 8.296875 \nQ 12.9375 14.109375 22.625 23.890625 \nQ 32.328125 33.6875 34.8125 36.53125 \nQ 39.546875 41.84375 41.421875 45.53125 \nQ 43.3125 49.21875 43.3125 52.78125 \nQ 43.3125 58.59375 39.234375 62.25 \nQ 35.15625 65.921875 28.609375 65.921875 \nQ 23.96875 65.921875 18.8125 64.3125 \nQ 13.671875 62.703125 7.8125 59.421875 \nL 7.8125 69.390625 \nQ 13.765625 71.78125 18.9375 73 \nQ 24.125 74.21875 28.421875 74.21875 \nQ 39.75 74.21875 46.484375 68.546875 \nQ 53.21875 62.890625 53.21875 53.421875 \nQ 53.21875 48.921875 51.53125 44.890625 \nQ 49.859375 40.875 45.40625 35.40625 \nQ 44.1875 33.984375 37.640625 27.21875 \nQ 31.109375 20.453125 19.1875 8.296875 \nz\n\" id=\"DejaVuSans-50\"/>\n       </defs>\n       <use xlink:href=\"#DejaVuSans-50\"/>\n       <use x=\"63.623047\" xlink:href=\"#DejaVuSans-48\"/>\n       <use x=\"127.246094\" xlink:href=\"#DejaVuSans-48\"/>\n       <use x=\"190.869141\" xlink:href=\"#DejaVuSans-48\"/>\n       <use x=\"254.492188\" xlink:href=\"#DejaVuSans-48\"/>\n      </g>\n     </g>\n    </g>\n    <g id=\"xtick_5\">\n     <g id=\"line2d_5\">\n      <g>\n       <use style=\"stroke:#000000;stroke-width:0.8;\" x=\"329.400467\" xlink:href=\"#m35e67d3180\" y=\"224.64\"/>\n      </g>\n     </g>\n     <g id=\"text_5\">\n      <!-- 30000 -->\n      <g transform=\"translate(313.494217 239.238437)scale(0.1 -0.1)\">\n       <defs>\n        <path d=\"M 40.578125 39.3125 \nQ 47.65625 37.796875 51.625 33 \nQ 55.609375 28.21875 55.609375 21.1875 \nQ 55.609375 10.40625 48.1875 4.484375 \nQ 40.765625 -1.421875 27.09375 -1.421875 \nQ 22.515625 -1.421875 17.65625 -0.515625 \nQ 12.796875 0.390625 7.625 2.203125 \nL 7.625 11.71875 \nQ 11.71875 9.328125 16.59375 8.109375 \nQ 21.484375 6.890625 26.8125 6.890625 \nQ 36.078125 6.890625 40.9375 10.546875 \nQ 45.796875 14.203125 45.796875 21.1875 \nQ 45.796875 27.640625 41.28125 31.265625 \nQ 36.765625 34.90625 28.71875 34.90625 \nL 20.21875 34.90625 \nL 20.21875 43.015625 \nL 29.109375 43.015625 \nQ 36.375 43.015625 40.234375 45.921875 \nQ 44.09375 48.828125 44.09375 54.296875 \nQ 44.09375 59.90625 40.109375 62.90625 \nQ 36.140625 65.921875 28.71875 65.921875 \nQ 24.65625 65.921875 20.015625 65.03125 \nQ 15.375 64.15625 9.8125 62.3125 \nL 9.8125 71.09375 \nQ 15.4375 72.65625 20.34375 73.4375 \nQ 25.25 74.21875 29.59375 74.21875 \nQ 40.828125 74.21875 47.359375 69.109375 \nQ 53.90625 64.015625 53.90625 55.328125 \nQ 53.90625 49.265625 50.4375 45.09375 \nQ 46.96875 40.921875 40.578125 39.3125 \nz\n\" id=\"DejaVuSans-51\"/>\n       </defs>\n       <use xlink:href=\"#DejaVuSans-51\"/>\n       <use x=\"63.623047\" xlink:href=\"#DejaVuSans-48\"/>\n       <use x=\"127.246094\" xlink:href=\"#DejaVuSans-48\"/>\n       <use x=\"190.869141\" xlink:href=\"#DejaVuSans-48\"/>\n       <use x=\"254.492188\" xlink:href=\"#DejaVuSans-48\"/>\n      </g>\n     </g>\n    </g>\n    <g id=\"xtick_6\">\n     <g id=\"line2d_6\">\n      <g>\n       <use style=\"stroke:#000000;stroke-width:0.8;\" x=\"385.689052\" xlink:href=\"#m35e67d3180\" y=\"224.64\"/>\n      </g>\n     </g>\n     <g id=\"text_6\">\n      <!-- 40000 -->\n      <g transform=\"translate(369.782802 239.238437)scale(0.1 -0.1)\">\n       <defs>\n        <path d=\"M 37.796875 64.3125 \nL 12.890625 25.390625 \nL 37.796875 25.390625 \nz\nM 35.203125 72.90625 \nL 47.609375 72.90625 \nL 47.609375 25.390625 \nL 58.015625 25.390625 \nL 58.015625 17.1875 \nL 47.609375 17.1875 \nL 47.609375 0 \nL 37.796875 0 \nL 37.796875 17.1875 \nL 4.890625 17.1875 \nL 4.890625 26.703125 \nz\n\" id=\"DejaVuSans-52\"/>\n       </defs>\n       <use xlink:href=\"#DejaVuSans-52\"/>\n       <use x=\"63.623047\" xlink:href=\"#DejaVuSans-48\"/>\n       <use x=\"127.246094\" xlink:href=\"#DejaVuSans-48\"/>\n       <use x=\"190.869141\" xlink:href=\"#DejaVuSans-48\"/>\n       <use x=\"254.492188\" xlink:href=\"#DejaVuSans-48\"/>\n      </g>\n     </g>\n    </g>\n   </g>\n   <g id=\"matplotlib.axis_2\">\n    <g id=\"ytick_1\">\n     <g id=\"line2d_7\">\n      <defs>\n       <path d=\"M 0 0 \nL -3.5 0 \n\" id=\"md227aca3fb\" style=\"stroke:#000000;stroke-width:0.8;\"/>\n      </defs>\n      <g>\n       <use style=\"stroke:#000000;stroke-width:0.8;\" x=\"69.23125\" xlink:href=\"#md227aca3fb\" y=\"214.770528\"/>\n      </g>\n     </g>\n     <g id=\"text_7\">\n      <!-- 0.00000 -->\n      <g transform=\"translate(20.878125 218.569747)scale(0.1 -0.1)\">\n       <defs>\n        <path d=\"M 10.6875 12.40625 \nL 21 12.40625 \nL 21 0 \nL 10.6875 0 \nz\n\" id=\"DejaVuSans-46\"/>\n       </defs>\n       <use xlink:href=\"#DejaVuSans-48\"/>\n       <use x=\"63.623047\" xlink:href=\"#DejaVuSans-46\"/>\n       <use x=\"95.410156\" xlink:href=\"#DejaVuSans-48\"/>\n       <use x=\"159.033203\" xlink:href=\"#DejaVuSans-48\"/>\n       <use x=\"222.65625\" xlink:href=\"#DejaVuSans-48\"/>\n       <use x=\"286.279297\" xlink:href=\"#DejaVuSans-48\"/>\n       <use x=\"349.902344\" xlink:href=\"#DejaVuSans-48\"/>\n      </g>\n     </g>\n    </g>\n    <g id=\"ytick_2\">\n     <g id=\"line2d_8\">\n      <g>\n       <use style=\"stroke:#000000;stroke-width:0.8;\" x=\"69.23125\" xlink:href=\"#md227aca3fb\" y=\"175.720338\"/>\n      </g>\n     </g>\n     <g id=\"text_8\">\n      <!-- 0.00002 -->\n      <g transform=\"translate(20.878125 179.519557)scale(0.1 -0.1)\">\n       <use xlink:href=\"#DejaVuSans-48\"/>\n       <use x=\"63.623047\" xlink:href=\"#DejaVuSans-46\"/>\n       <use x=\"95.410156\" xlink:href=\"#DejaVuSans-48\"/>\n       <use x=\"159.033203\" xlink:href=\"#DejaVuSans-48\"/>\n       <use x=\"222.65625\" xlink:href=\"#DejaVuSans-48\"/>\n       <use x=\"286.279297\" xlink:href=\"#DejaVuSans-48\"/>\n       <use x=\"349.902344\" xlink:href=\"#DejaVuSans-50\"/>\n      </g>\n     </g>\n    </g>\n    <g id=\"ytick_3\">\n     <g id=\"line2d_9\">\n      <g>\n       <use style=\"stroke:#000000;stroke-width:0.8;\" x=\"69.23125\" xlink:href=\"#md227aca3fb\" y=\"136.670148\"/>\n      </g>\n     </g>\n     <g id=\"text_9\">\n      <!-- 0.00004 -->\n      <g transform=\"translate(20.878125 140.469367)scale(0.1 -0.1)\">\n       <use xlink:href=\"#DejaVuSans-48\"/>\n       <use x=\"63.623047\" xlink:href=\"#DejaVuSans-46\"/>\n       <use x=\"95.410156\" xlink:href=\"#DejaVuSans-48\"/>\n       <use x=\"159.033203\" xlink:href=\"#DejaVuSans-48\"/>\n       <use x=\"222.65625\" xlink:href=\"#DejaVuSans-48\"/>\n       <use x=\"286.279297\" xlink:href=\"#DejaVuSans-48\"/>\n       <use x=\"349.902344\" xlink:href=\"#DejaVuSans-52\"/>\n      </g>\n     </g>\n    </g>\n    <g id=\"ytick_4\">\n     <g id=\"line2d_10\">\n      <g>\n       <use style=\"stroke:#000000;stroke-width:0.8;\" x=\"69.23125\" xlink:href=\"#md227aca3fb\" y=\"97.619958\"/>\n      </g>\n     </g>\n     <g id=\"text_10\">\n      <!-- 0.00006 -->\n      <g transform=\"translate(20.878125 101.419176)scale(0.1 -0.1)\">\n       <defs>\n        <path d=\"M 33.015625 40.375 \nQ 26.375 40.375 22.484375 35.828125 \nQ 18.609375 31.296875 18.609375 23.390625 \nQ 18.609375 15.53125 22.484375 10.953125 \nQ 26.375 6.390625 33.015625 6.390625 \nQ 39.65625 6.390625 43.53125 10.953125 \nQ 47.40625 15.53125 47.40625 23.390625 \nQ 47.40625 31.296875 43.53125 35.828125 \nQ 39.65625 40.375 33.015625 40.375 \nz\nM 52.59375 71.296875 \nL 52.59375 62.3125 \nQ 48.875 64.0625 45.09375 64.984375 \nQ 41.3125 65.921875 37.59375 65.921875 \nQ 27.828125 65.921875 22.671875 59.328125 \nQ 17.53125 52.734375 16.796875 39.40625 \nQ 19.671875 43.65625 24.015625 45.921875 \nQ 28.375 48.1875 33.59375 48.1875 \nQ 44.578125 48.1875 50.953125 41.515625 \nQ 57.328125 34.859375 57.328125 23.390625 \nQ 57.328125 12.15625 50.6875 5.359375 \nQ 44.046875 -1.421875 33.015625 -1.421875 \nQ 20.359375 -1.421875 13.671875 8.265625 \nQ 6.984375 17.96875 6.984375 36.375 \nQ 6.984375 53.65625 15.1875 63.9375 \nQ 23.390625 74.21875 37.203125 74.21875 \nQ 40.921875 74.21875 44.703125 73.484375 \nQ 48.484375 72.75 52.59375 71.296875 \nz\n\" id=\"DejaVuSans-54\"/>\n       </defs>\n       <use xlink:href=\"#DejaVuSans-48\"/>\n       <use x=\"63.623047\" xlink:href=\"#DejaVuSans-46\"/>\n       <use x=\"95.410156\" xlink:href=\"#DejaVuSans-48\"/>\n       <use x=\"159.033203\" xlink:href=\"#DejaVuSans-48\"/>\n       <use x=\"222.65625\" xlink:href=\"#DejaVuSans-48\"/>\n       <use x=\"286.279297\" xlink:href=\"#DejaVuSans-48\"/>\n       <use x=\"349.902344\" xlink:href=\"#DejaVuSans-54\"/>\n      </g>\n     </g>\n    </g>\n    <g id=\"ytick_5\">\n     <g id=\"line2d_11\">\n      <g>\n       <use style=\"stroke:#000000;stroke-width:0.8;\" x=\"69.23125\" xlink:href=\"#md227aca3fb\" y=\"58.569767\"/>\n      </g>\n     </g>\n     <g id=\"text_11\">\n      <!-- 0.00008 -->\n      <g transform=\"translate(20.878125 62.368986)scale(0.1 -0.1)\">\n       <defs>\n        <path d=\"M 31.78125 34.625 \nQ 24.75 34.625 20.71875 30.859375 \nQ 16.703125 27.09375 16.703125 20.515625 \nQ 16.703125 13.921875 20.71875 10.15625 \nQ 24.75 6.390625 31.78125 6.390625 \nQ 38.8125 6.390625 42.859375 10.171875 \nQ 46.921875 13.96875 46.921875 20.515625 \nQ 46.921875 27.09375 42.890625 30.859375 \nQ 38.875 34.625 31.78125 34.625 \nz\nM 21.921875 38.8125 \nQ 15.578125 40.375 12.03125 44.71875 \nQ 8.5 49.078125 8.5 55.328125 \nQ 8.5 64.0625 14.71875 69.140625 \nQ 20.953125 74.21875 31.78125 74.21875 \nQ 42.671875 74.21875 48.875 69.140625 \nQ 55.078125 64.0625 55.078125 55.328125 \nQ 55.078125 49.078125 51.53125 44.71875 \nQ 48 40.375 41.703125 38.8125 \nQ 48.828125 37.15625 52.796875 32.3125 \nQ 56.78125 27.484375 56.78125 20.515625 \nQ 56.78125 9.90625 50.3125 4.234375 \nQ 43.84375 -1.421875 31.78125 -1.421875 \nQ 19.734375 -1.421875 13.25 4.234375 \nQ 6.78125 9.90625 6.78125 20.515625 \nQ 6.78125 27.484375 10.78125 32.3125 \nQ 14.796875 37.15625 21.921875 38.8125 \nz\nM 18.3125 54.390625 \nQ 18.3125 48.734375 21.84375 45.5625 \nQ 25.390625 42.390625 31.78125 42.390625 \nQ 38.140625 42.390625 41.71875 45.5625 \nQ 45.3125 48.734375 45.3125 54.390625 \nQ 45.3125 60.0625 41.71875 63.234375 \nQ 38.140625 66.40625 31.78125 66.40625 \nQ 25.390625 66.40625 21.84375 63.234375 \nQ 18.3125 60.0625 18.3125 54.390625 \nz\n\" id=\"DejaVuSans-56\"/>\n       </defs>\n       <use xlink:href=\"#DejaVuSans-48\"/>\n       <use x=\"63.623047\" xlink:href=\"#DejaVuSans-46\"/>\n       <use x=\"95.410156\" xlink:href=\"#DejaVuSans-48\"/>\n       <use x=\"159.033203\" xlink:href=\"#DejaVuSans-48\"/>\n       <use x=\"222.65625\" xlink:href=\"#DejaVuSans-48\"/>\n       <use x=\"286.279297\" xlink:href=\"#DejaVuSans-48\"/>\n       <use x=\"349.902344\" xlink:href=\"#DejaVuSans-56\"/>\n      </g>\n     </g>\n    </g>\n    <g id=\"ytick_6\">\n     <g id=\"line2d_12\">\n      <g>\n       <use style=\"stroke:#000000;stroke-width:0.8;\" x=\"69.23125\" xlink:href=\"#md227aca3fb\" y=\"19.519577\"/>\n      </g>\n     </g>\n     <g id=\"text_12\">\n      <!-- 0.00010 -->\n      <g transform=\"translate(20.878125 23.318796)scale(0.1 -0.1)\">\n       <use xlink:href=\"#DejaVuSans-48\"/>\n       <use x=\"63.623047\" xlink:href=\"#DejaVuSans-46\"/>\n       <use x=\"95.410156\" xlink:href=\"#DejaVuSans-48\"/>\n       <use x=\"159.033203\" xlink:href=\"#DejaVuSans-48\"/>\n       <use x=\"222.65625\" xlink:href=\"#DejaVuSans-48\"/>\n       <use x=\"286.279297\" xlink:href=\"#DejaVuSans-49\"/>\n       <use x=\"349.902344\" xlink:href=\"#DejaVuSans-48\"/>\n      </g>\n     </g>\n    </g>\n    <g id=\"text_13\">\n     <!-- Density -->\n     <g transform=\"translate(14.798437 134.928594)rotate(-90)scale(0.1 -0.1)\">\n      <defs>\n       <path d=\"M 19.671875 64.796875 \nL 19.671875 8.109375 \nL 31.59375 8.109375 \nQ 46.6875 8.109375 53.6875 14.9375 \nQ 60.6875 21.78125 60.6875 36.53125 \nQ 60.6875 51.171875 53.6875 57.984375 \nQ 46.6875 64.796875 31.59375 64.796875 \nz\nM 9.8125 72.90625 \nL 30.078125 72.90625 \nQ 51.265625 72.90625 61.171875 64.09375 \nQ 71.09375 55.28125 71.09375 36.53125 \nQ 71.09375 17.671875 61.125 8.828125 \nQ 51.171875 0 30.078125 0 \nL 9.8125 0 \nz\n\" id=\"DejaVuSans-68\"/>\n       <path d=\"M 56.203125 29.59375 \nL 56.203125 25.203125 \nL 14.890625 25.203125 \nQ 15.484375 15.921875 20.484375 11.0625 \nQ 25.484375 6.203125 34.421875 6.203125 \nQ 39.59375 6.203125 44.453125 7.46875 \nQ 49.3125 8.734375 54.109375 11.28125 \nL 54.109375 2.78125 \nQ 49.265625 0.734375 44.1875 -0.34375 \nQ 39.109375 -1.421875 33.890625 -1.421875 \nQ 20.796875 -1.421875 13.15625 6.1875 \nQ 5.515625 13.8125 5.515625 26.8125 \nQ 5.515625 40.234375 12.765625 48.109375 \nQ 20.015625 56 32.328125 56 \nQ 43.359375 56 49.78125 48.890625 \nQ 56.203125 41.796875 56.203125 29.59375 \nz\nM 47.21875 32.234375 \nQ 47.125 39.59375 43.09375 43.984375 \nQ 39.0625 48.390625 32.421875 48.390625 \nQ 24.90625 48.390625 20.390625 44.140625 \nQ 15.875 39.890625 15.1875 32.171875 \nz\n\" id=\"DejaVuSans-101\"/>\n       <path d=\"M 54.890625 33.015625 \nL 54.890625 0 \nL 45.90625 0 \nL 45.90625 32.71875 \nQ 45.90625 40.484375 42.875 44.328125 \nQ 39.84375 48.1875 33.796875 48.1875 \nQ 26.515625 48.1875 22.3125 43.546875 \nQ 18.109375 38.921875 18.109375 30.90625 \nL 18.109375 0 \nL 9.078125 0 \nL 9.078125 54.6875 \nL 18.109375 54.6875 \nL 18.109375 46.1875 \nQ 21.34375 51.125 25.703125 53.5625 \nQ 30.078125 56 35.796875 56 \nQ 45.21875 56 50.046875 50.171875 \nQ 54.890625 44.34375 54.890625 33.015625 \nz\n\" id=\"DejaVuSans-110\"/>\n       <path d=\"M 44.28125 53.078125 \nL 44.28125 44.578125 \nQ 40.484375 46.53125 36.375 47.5 \nQ 32.28125 48.484375 27.875 48.484375 \nQ 21.1875 48.484375 17.84375 46.4375 \nQ 14.5 44.390625 14.5 40.28125 \nQ 14.5 37.15625 16.890625 35.375 \nQ 19.28125 33.59375 26.515625 31.984375 \nL 29.59375 31.296875 \nQ 39.15625 29.25 43.1875 25.515625 \nQ 47.21875 21.78125 47.21875 15.09375 \nQ 47.21875 7.46875 41.1875 3.015625 \nQ 35.15625 -1.421875 24.609375 -1.421875 \nQ 20.21875 -1.421875 15.453125 -0.5625 \nQ 10.6875 0.296875 5.421875 2 \nL 5.421875 11.28125 \nQ 10.40625 8.6875 15.234375 7.390625 \nQ 20.0625 6.109375 24.8125 6.109375 \nQ 31.15625 6.109375 34.5625 8.28125 \nQ 37.984375 10.453125 37.984375 14.40625 \nQ 37.984375 18.0625 35.515625 20.015625 \nQ 33.0625 21.96875 24.703125 23.78125 \nL 21.578125 24.515625 \nQ 13.234375 26.265625 9.515625 29.90625 \nQ 5.8125 33.546875 5.8125 39.890625 \nQ 5.8125 47.609375 11.28125 51.796875 \nQ 16.75 56 26.8125 56 \nQ 31.78125 56 36.171875 55.265625 \nQ 40.578125 54.546875 44.28125 53.078125 \nz\n\" id=\"DejaVuSans-115\"/>\n       <path d=\"M 9.421875 54.6875 \nL 18.40625 54.6875 \nL 18.40625 0 \nL 9.421875 0 \nz\nM 9.421875 75.984375 \nL 18.40625 75.984375 \nL 18.40625 64.59375 \nL 9.421875 64.59375 \nz\n\" id=\"DejaVuSans-105\"/>\n       <path d=\"M 18.3125 70.21875 \nL 18.3125 54.6875 \nL 36.8125 54.6875 \nL 36.8125 47.703125 \nL 18.3125 47.703125 \nL 18.3125 18.015625 \nQ 18.3125 11.328125 20.140625 9.421875 \nQ 21.96875 7.515625 27.59375 7.515625 \nL 36.8125 7.515625 \nL 36.8125 0 \nL 27.59375 0 \nQ 17.1875 0 13.234375 3.875 \nQ 9.28125 7.765625 9.28125 18.015625 \nL 9.28125 47.703125 \nL 2.6875 47.703125 \nL 2.6875 54.6875 \nL 9.28125 54.6875 \nL 9.28125 70.21875 \nz\n\" id=\"DejaVuSans-116\"/>\n       <path d=\"M 32.171875 -5.078125 \nQ 28.375 -14.84375 24.75 -17.8125 \nQ 21.140625 -20.796875 15.09375 -20.796875 \nL 7.90625 -20.796875 \nL 7.90625 -13.28125 \nL 13.1875 -13.28125 \nQ 16.890625 -13.28125 18.9375 -11.515625 \nQ 21 -9.765625 23.484375 -3.21875 \nL 25.09375 0.875 \nL 2.984375 54.6875 \nL 12.5 54.6875 \nL 29.59375 11.921875 \nL 46.6875 54.6875 \nL 56.203125 54.6875 \nz\n\" id=\"DejaVuSans-121\"/>\n      </defs>\n      <use xlink:href=\"#DejaVuSans-68\"/>\n      <use x=\"77.001953\" xlink:href=\"#DejaVuSans-101\"/>\n      <use x=\"138.525391\" xlink:href=\"#DejaVuSans-110\"/>\n      <use x=\"201.904297\" xlink:href=\"#DejaVuSans-115\"/>\n      <use x=\"254.003906\" xlink:href=\"#DejaVuSans-105\"/>\n      <use x=\"281.787109\" xlink:href=\"#DejaVuSans-116\"/>\n      <use x=\"320.996094\" xlink:href=\"#DejaVuSans-121\"/>\n     </g>\n    </g>\n   </g>\n   <g id=\"line2d_13\">\n    <path clip-path=\"url(#p76bad15610)\" d=\"M 84.449432 214.60949 \nL 90.23813 214.328263 \nL 94.198818 213.926267 \nL 97.245501 213.416125 \nL 99.987515 212.735727 \nL 102.424862 211.891023 \nL 104.55754 210.912431 \nL 106.38555 209.85415 \nL 108.21356 208.553753 \nL 110.041569 206.969829 \nL 111.869579 205.057581 \nL 113.697589 202.7695 \nL 115.525599 200.056332 \nL 117.353609 196.868346 \nL 119.181619 193.156908 \nL 121.009628 188.876364 \nL 122.837638 183.986189 \nL 124.665648 178.45335 \nL 126.493658 172.254823 \nL 128.626336 164.168697 \nL 130.759014 155.17243 \nL 133.196361 143.832335 \nL 135.938375 129.875321 \nL 139.289727 111.491139 \nL 148.734444 58.614188 \nL 151.171791 46.721197 \nL 152.9998 38.794153 \nL 154.82781 31.902335 \nL 156.351152 27.057159 \nL 157.569825 23.82278 \nL 158.788498 21.193887 \nL 159.702503 19.635599 \nL 160.616508 18.441621 \nL 161.530513 17.618733 \nL 162.444518 17.171615 \nL 163.053854 17.083636 \nL 163.663191 17.164049 \nL 164.272528 17.412638 \nL 165.186533 18.099323 \nL 166.100537 19.158881 \nL 167.014542 20.585222 \nL 167.928547 22.370196 \nL 169.147221 25.290247 \nL 170.365894 28.800453 \nL 171.889235 33.964846 \nL 173.412577 39.918566 \nL 175.240587 47.980095 \nL 177.373265 58.437302 \nL 180.115279 73.110875 \nL 184.685304 99.084438 \nL 189.255329 124.708098 \nL 192.302012 140.551512 \nL 194.739358 152.159807 \nL 197.176705 162.665737 \nL 199.309383 170.893715 \nL 201.442061 178.204905 \nL 203.270071 183.751873 \nL 205.09808 188.657746 \nL 206.92609 192.955094 \nL 208.7541 196.683992 \nL 210.58211 199.889663 \nL 212.41012 202.620347 \nL 214.23813 204.925433 \nL 216.066139 206.853884 \nL 217.894149 208.452976 \nL 219.722159 209.767331 \nL 221.550169 210.838233 \nL 223.682847 211.829754 \nL 226.120193 212.686777 \nL 228.55754 213.312946 \nL 231.604223 213.85347 \nL 235.260243 214.253641 \nL 239.830267 214.513685 \nL 245.923633 214.627191 \nL 253.540341 214.547296 \nL 260.243044 214.270618 \nL 265.727073 213.829883 \nL 270.297098 213.253906 \nL 274.562454 212.502571 \nL 278.82781 211.520044 \nL 283.093166 210.306084 \nL 287.967859 208.680553 \nL 301.373265 204.035581 \nL 304.724616 203.188614 \nL 307.771299 202.640909 \nL 310.513314 202.358768 \nL 313.255329 202.291793 \nL 315.997343 202.443489 \nL 318.739358 202.805935 \nL 321.786041 203.432801 \nL 325.137393 204.349516 \nL 329.402749 205.759341 \nL 344.026827 210.809313 \nL 348.292184 211.934351 \nL 352.55754 212.824587 \nL 356.822896 213.491096 \nL 361.697589 214.018516 \nL 367.181619 214.383549 \nL 374.493658 214.627515 \nL 385.766385 214.746411 \nL 388.813068 214.756364 \nL 388.813068 214.756364 \n\" style=\"fill:none;stroke:#1f77b4;stroke-linecap:square;stroke-width:1.5;\"/>\n   </g>\n   <g id=\"patch_3\">\n    <path d=\"M 69.23125 224.64 \nL 69.23125 7.2 \n\" style=\"fill:none;stroke:#000000;stroke-linecap:square;stroke-linejoin:miter;stroke-width:0.8;\"/>\n   </g>\n   <g id=\"patch_4\">\n    <path d=\"M 404.03125 224.64 \nL 404.03125 7.2 \n\" style=\"fill:none;stroke:#000000;stroke-linecap:square;stroke-linejoin:miter;stroke-width:0.8;\"/>\n   </g>\n   <g id=\"patch_5\">\n    <path d=\"M 69.23125 224.64 \nL 404.03125 224.64 \n\" style=\"fill:none;stroke:#000000;stroke-linecap:square;stroke-linejoin:miter;stroke-width:0.8;\"/>\n   </g>\n   <g id=\"patch_6\">\n    <path d=\"M 69.23125 7.2 \nL 404.03125 7.2 \n\" style=\"fill:none;stroke:#000000;stroke-linecap:square;stroke-linejoin:miter;stroke-width:0.8;\"/>\n   </g>\n  </g>\n </g>\n <defs>\n  <clipPath id=\"p76bad15610\">\n   <rect height=\"217.44\" width=\"334.8\" x=\"69.23125\" y=\"7.2\"/>\n  </clipPath>\n </defs>\n</svg>\n",
      "image/png": "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"
=======
      ]
>>>>>>> 8d7fa2142bd7a86e5fa448db46b8032999331c4e
     },
     "metadata": {
      "needs_background": "light"
     },
     "output_type": "display_data"
    }
   ],
   "source": [
    "# Visualize the value counts of APPLICATION_TYPE\n",
    "application_type_counts.plot.density()"
   ]
  },
  {
   "cell_type": "code",
<<<<<<< HEAD
   "execution_count": 73,
   "source": [
    "# Determine which values to replace if counts are less than ...?\n",
    "replace_application = list(application_type_counts[application_type_counts<1000].index)\n",
    "\n",
    "# Replace in dataframe\n",
    "for app in replace_application:\n",
    "    application_df.APPLICATION_TYPE = application_df.APPLICATION_TYPE.replace(app,\"Other\")\n",
    "    \n",
    "# Check to make sure binning was successful\n",
    "application_df.APPLICATION_TYPE.value_counts()"
   ],
=======
   "execution_count": 6,
   "metadata": {},
>>>>>>> 8d7fa2142bd7a86e5fa448db46b8032999331c4e
   "outputs": [
    {
     "data": {
      "text/plain": [
       "T3       27037\n",
       "Other     2266\n",
       "T4        1542\n",
       "T6        1216\n",
       "T5        1173\n",
       "T19       1065\n",
       "Name: APPLICATION_TYPE, dtype: int64"
      ]
     },
     "execution_count": 6,
     "metadata": {},
<<<<<<< HEAD
     "execution_count": 73
=======
     "output_type": "execute_result"
>>>>>>> 8d7fa2142bd7a86e5fa448db46b8032999331c4e
    }
   ],
   "source": [
    "# Determine which values to replace if counts are less than ...?\n",
    "replace_application = list(application_type_counts[application_type_counts<500].index)\n",
    "\n",
    "# Replace in dataframe\n",
    "for app in replace_application:\n",
    "    application_df.APPLICATION_TYPE = application_df.APPLICATION_TYPE.replace(app,\"Other\")\n",
    "    \n",
    "# Check to make sure binning was successful\n",
    "application_df.APPLICATION_TYPE.value_counts()"
   ]
  },
  {
   "cell_type": "code",
<<<<<<< HEAD
   "execution_count": 74,
   "source": [
    "# Look at CLASSIFICATION value counts for binning\n",
    "classification_counts = application_df.CLASSIFICATION.value_counts()\n",
    "classification_counts"
   ],
=======
   "execution_count": 7,
   "metadata": {},
>>>>>>> 8d7fa2142bd7a86e5fa448db46b8032999331c4e
   "outputs": [
    {
     "data": {
      "text/plain": [
       "C1000    17326\n",
       "C2000     6074\n",
       "C1200     4837\n",
       "C3000     1918\n",
       "C2100     1883\n",
       "         ...  \n",
<<<<<<< HEAD
       "C2561        1\n",
       "C1283        1\n",
       "C5200        1\n",
       "C4200        1\n",
       "C1580        1\n",
=======
       "C2570        1\n",
       "C4120        1\n",
       "C1370        1\n",
       "C1570        1\n",
       "C3700        1\n",
>>>>>>> 8d7fa2142bd7a86e5fa448db46b8032999331c4e
       "Name: CLASSIFICATION, Length: 71, dtype: int64"
      ]
     },
     "execution_count": 7,
     "metadata": {},
<<<<<<< HEAD
     "execution_count": 74
=======
     "output_type": "execute_result"
>>>>>>> 8d7fa2142bd7a86e5fa448db46b8032999331c4e
    }
   ],
   "source": [
    "# Look at CLASSIFICATION value counts for binning\n",
    "classification_counts = application_df.CLASSIFICATION.value_counts()\n",
    "classification_counts"
   ]
  },
  {
   "cell_type": "code",
<<<<<<< HEAD
   "execution_count": 75,
   "source": [
    "# Visualize the value counts of CLASSIFICATION\n",
    "classification_counts.plot.density()"
   ],
=======
   "execution_count": 8,
   "metadata": {},
>>>>>>> 8d7fa2142bd7a86e5fa448db46b8032999331c4e
   "outputs": [
    {
     "data": {
      "text/plain": [
       "<matplotlib.axes._subplots.AxesSubplot at 0x7fa019f9cbe0>"
      ]
     },
     "execution_count": 8,
     "metadata": {},
<<<<<<< HEAD
     "execution_count": 75
=======
     "output_type": "execute_result"
>>>>>>> 8d7fa2142bd7a86e5fa448db46b8032999331c4e
    },
    {
     "data": {
      "image/png": "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\n",
      "text/plain": [
       "<Figure size 432x288 with 1 Axes>"
<<<<<<< HEAD
      ],
      "image/svg+xml": "<?xml version=\"1.0\" encoding=\"utf-8\" standalone=\"no\"?>\n<!DOCTYPE svg PUBLIC \"-//W3C//DTD SVG 1.1//EN\"\n  \"http://www.w3.org/Graphics/SVG/1.1/DTD/svg11.dtd\">\n<!-- Created with matplotlib (https://matplotlib.org/) -->\n<svg height=\"248.728883pt\" version=\"1.1\" viewBox=\"0 0 411.23125 248.728883\" width=\"411.23125pt\" xmlns=\"http://www.w3.org/2000/svg\" xmlns:xlink=\"http://www.w3.org/1999/xlink\">\n <metadata>\n  <rdf:RDF xmlns:cc=\"http://creativecommons.org/ns#\" xmlns:dc=\"http://purl.org/dc/elements/1.1/\" xmlns:rdf=\"http://www.w3.org/1999/02/22-rdf-syntax-ns#\">\n   <cc:Work>\n    <dc:type rdf:resource=\"http://purl.org/dc/dcmitype/StillImage\"/>\n    <dc:date>2021-08-30T18:31:17.969469</dc:date>\n    <dc:format>image/svg+xml</dc:format>\n    <dc:creator>\n     <cc:Agent>\n      <dc:title>Matplotlib v3.3.4, https://matplotlib.org/</dc:title>\n     </cc:Agent>\n    </dc:creator>\n   </cc:Work>\n  </rdf:RDF>\n </metadata>\n <defs>\n  <style type=\"text/css\">*{stroke-linecap:butt;stroke-linejoin:round;}</style>\n </defs>\n <g id=\"figure_1\">\n  <g id=\"patch_1\">\n   <path d=\"M 0 248.728883 \nL 411.23125 248.728883 \nL 411.23125 0 \nL 0 0 \nz\n\" style=\"fill:none;\"/>\n  </g>\n  <g id=\"axes_1\">\n   <g id=\"patch_2\">\n    <path d=\"M 69.23125 224.850758 \nL 404.03125 224.850758 \nL 404.03125 7.410758 \nL 69.23125 7.410758 \nz\n\" style=\"fill:#ffffff;\"/>\n   </g>\n   <g id=\"matplotlib.axis_1\">\n    <g id=\"xtick_1\">\n     <g id=\"line2d_1\">\n      <defs>\n       <path d=\"M 0 0 \nL 0 3.5 \n\" id=\"mce854e9ab5\" style=\"stroke:#000000;stroke-width:0.8;\"/>\n      </defs>\n      <g>\n       <use style=\"stroke:#000000;stroke-width:0.8;\" x=\"72.692124\" xlink:href=\"#mce854e9ab5\" y=\"224.850758\"/>\n      </g>\n     </g>\n     <g id=\"text_1\">\n      <!-- −10000 -->\n      <g transform=\"translate(52.59603 239.449195)scale(0.1 -0.1)\">\n       <defs>\n        <path d=\"M 10.59375 35.5 \nL 73.1875 35.5 \nL 73.1875 27.203125 \nL 10.59375 27.203125 \nz\n\" id=\"DejaVuSans-8722\"/>\n        <path d=\"M 12.40625 8.296875 \nL 28.515625 8.296875 \nL 28.515625 63.921875 \nL 10.984375 60.40625 \nL 10.984375 69.390625 \nL 28.421875 72.90625 \nL 38.28125 72.90625 \nL 38.28125 8.296875 \nL 54.390625 8.296875 \nL 54.390625 0 \nL 12.40625 0 \nz\n\" id=\"DejaVuSans-49\"/>\n        <path d=\"M 31.78125 66.40625 \nQ 24.171875 66.40625 20.328125 58.90625 \nQ 16.5 51.421875 16.5 36.375 \nQ 16.5 21.390625 20.328125 13.890625 \nQ 24.171875 6.390625 31.78125 6.390625 \nQ 39.453125 6.390625 43.28125 13.890625 \nQ 47.125 21.390625 47.125 36.375 \nQ 47.125 51.421875 43.28125 58.90625 \nQ 39.453125 66.40625 31.78125 66.40625 \nz\nM 31.78125 74.21875 \nQ 44.046875 74.21875 50.515625 64.515625 \nQ 56.984375 54.828125 56.984375 36.375 \nQ 56.984375 17.96875 50.515625 8.265625 \nQ 44.046875 -1.421875 31.78125 -1.421875 \nQ 19.53125 -1.421875 13.0625 8.265625 \nQ 6.59375 17.96875 6.59375 36.375 \nQ 6.59375 54.828125 13.0625 64.515625 \nQ 19.53125 74.21875 31.78125 74.21875 \nz\n\" id=\"DejaVuSans-48\"/>\n       </defs>\n       <use xlink:href=\"#DejaVuSans-8722\"/>\n       <use x=\"83.789062\" xlink:href=\"#DejaVuSans-49\"/>\n       <use x=\"147.412109\" xlink:href=\"#DejaVuSans-48\"/>\n       <use x=\"211.035156\" xlink:href=\"#DejaVuSans-48\"/>\n       <use x=\"274.658203\" xlink:href=\"#DejaVuSans-48\"/>\n       <use x=\"338.28125\" xlink:href=\"#DejaVuSans-48\"/>\n      </g>\n     </g>\n    </g>\n    <g id=\"xtick_2\">\n     <g id=\"line2d_2\">\n      <g>\n       <use style=\"stroke:#000000;stroke-width:0.8;\" x=\"116.61184\" xlink:href=\"#mce854e9ab5\" y=\"224.850758\"/>\n      </g>\n     </g>\n     <g id=\"text_2\">\n      <!-- −5000 -->\n      <g transform=\"translate(99.696997 239.449195)scale(0.1 -0.1)\">\n       <defs>\n        <path d=\"M 10.796875 72.90625 \nL 49.515625 72.90625 \nL 49.515625 64.59375 \nL 19.828125 64.59375 \nL 19.828125 46.734375 \nQ 21.96875 47.46875 24.109375 47.828125 \nQ 26.265625 48.1875 28.421875 48.1875 \nQ 40.625 48.1875 47.75 41.5 \nQ 54.890625 34.8125 54.890625 23.390625 \nQ 54.890625 11.625 47.5625 5.09375 \nQ 40.234375 -1.421875 26.90625 -1.421875 \nQ 22.3125 -1.421875 17.546875 -0.640625 \nQ 12.796875 0.140625 7.71875 1.703125 \nL 7.71875 11.625 \nQ 12.109375 9.234375 16.796875 8.0625 \nQ 21.484375 6.890625 26.703125 6.890625 \nQ 35.15625 6.890625 40.078125 11.328125 \nQ 45.015625 15.765625 45.015625 23.390625 \nQ 45.015625 31 40.078125 35.4375 \nQ 35.15625 39.890625 26.703125 39.890625 \nQ 22.75 39.890625 18.8125 39.015625 \nQ 14.890625 38.140625 10.796875 36.28125 \nz\n\" id=\"DejaVuSans-53\"/>\n       </defs>\n       <use xlink:href=\"#DejaVuSans-8722\"/>\n       <use x=\"83.789062\" xlink:href=\"#DejaVuSans-53\"/>\n       <use x=\"147.412109\" xlink:href=\"#DejaVuSans-48\"/>\n       <use x=\"211.035156\" xlink:href=\"#DejaVuSans-48\"/>\n       <use x=\"274.658203\" xlink:href=\"#DejaVuSans-48\"/>\n      </g>\n     </g>\n    </g>\n    <g id=\"xtick_3\">\n     <g id=\"line2d_3\">\n      <g>\n       <use style=\"stroke:#000000;stroke-width:0.8;\" x=\"160.531557\" xlink:href=\"#mce854e9ab5\" y=\"224.850758\"/>\n      </g>\n     </g>\n     <g id=\"text_3\">\n      <!-- 0 -->\n      <g transform=\"translate(157.350307 239.449195)scale(0.1 -0.1)\">\n       <use xlink:href=\"#DejaVuSans-48\"/>\n      </g>\n     </g>\n    </g>\n    <g id=\"xtick_4\">\n     <g id=\"line2d_4\">\n      <g>\n       <use style=\"stroke:#000000;stroke-width:0.8;\" x=\"204.451274\" xlink:href=\"#mce854e9ab5\" y=\"224.850758\"/>\n      </g>\n     </g>\n     <g id=\"text_4\">\n      <!-- 5000 -->\n      <g transform=\"translate(191.726274 239.449195)scale(0.1 -0.1)\">\n       <use xlink:href=\"#DejaVuSans-53\"/>\n       <use x=\"63.623047\" xlink:href=\"#DejaVuSans-48\"/>\n       <use x=\"127.246094\" xlink:href=\"#DejaVuSans-48\"/>\n       <use x=\"190.869141\" xlink:href=\"#DejaVuSans-48\"/>\n      </g>\n     </g>\n    </g>\n    <g id=\"xtick_5\">\n     <g id=\"line2d_5\">\n      <g>\n       <use style=\"stroke:#000000;stroke-width:0.8;\" x=\"248.37099\" xlink:href=\"#mce854e9ab5\" y=\"224.850758\"/>\n      </g>\n     </g>\n     <g id=\"text_5\">\n      <!-- 10000 -->\n      <g transform=\"translate(232.46474 239.449195)scale(0.1 -0.1)\">\n       <use xlink:href=\"#DejaVuSans-49\"/>\n       <use x=\"63.623047\" xlink:href=\"#DejaVuSans-48\"/>\n       <use x=\"127.246094\" xlink:href=\"#DejaVuSans-48\"/>\n       <use x=\"190.869141\" xlink:href=\"#DejaVuSans-48\"/>\n       <use x=\"254.492188\" xlink:href=\"#DejaVuSans-48\"/>\n      </g>\n     </g>\n    </g>\n    <g id=\"xtick_6\">\n     <g id=\"line2d_6\">\n      <g>\n       <use style=\"stroke:#000000;stroke-width:0.8;\" x=\"292.290707\" xlink:href=\"#mce854e9ab5\" y=\"224.850758\"/>\n      </g>\n     </g>\n     <g id=\"text_6\">\n      <!-- 15000 -->\n      <g transform=\"translate(276.384457 239.449195)scale(0.1 -0.1)\">\n       <use xlink:href=\"#DejaVuSans-49\"/>\n       <use x=\"63.623047\" xlink:href=\"#DejaVuSans-53\"/>\n       <use x=\"127.246094\" xlink:href=\"#DejaVuSans-48\"/>\n       <use x=\"190.869141\" xlink:href=\"#DejaVuSans-48\"/>\n       <use x=\"254.492188\" xlink:href=\"#DejaVuSans-48\"/>\n      </g>\n     </g>\n    </g>\n    <g id=\"xtick_7\">\n     <g id=\"line2d_7\">\n      <g>\n       <use style=\"stroke:#000000;stroke-width:0.8;\" x=\"336.210424\" xlink:href=\"#mce854e9ab5\" y=\"224.850758\"/>\n      </g>\n     </g>\n     <g id=\"text_7\">\n      <!-- 20000 -->\n      <g transform=\"translate(320.304174 239.449195)scale(0.1 -0.1)\">\n       <defs>\n        <path d=\"M 19.1875 8.296875 \nL 53.609375 8.296875 \nL 53.609375 0 \nL 7.328125 0 \nL 7.328125 8.296875 \nQ 12.9375 14.109375 22.625 23.890625 \nQ 32.328125 33.6875 34.8125 36.53125 \nQ 39.546875 41.84375 41.421875 45.53125 \nQ 43.3125 49.21875 43.3125 52.78125 \nQ 43.3125 58.59375 39.234375 62.25 \nQ 35.15625 65.921875 28.609375 65.921875 \nQ 23.96875 65.921875 18.8125 64.3125 \nQ 13.671875 62.703125 7.8125 59.421875 \nL 7.8125 69.390625 \nQ 13.765625 71.78125 18.9375 73 \nQ 24.125 74.21875 28.421875 74.21875 \nQ 39.75 74.21875 46.484375 68.546875 \nQ 53.21875 62.890625 53.21875 53.421875 \nQ 53.21875 48.921875 51.53125 44.890625 \nQ 49.859375 40.875 45.40625 35.40625 \nQ 44.1875 33.984375 37.640625 27.21875 \nQ 31.109375 20.453125 19.1875 8.296875 \nz\n\" id=\"DejaVuSans-50\"/>\n       </defs>\n       <use xlink:href=\"#DejaVuSans-50\"/>\n       <use x=\"63.623047\" xlink:href=\"#DejaVuSans-48\"/>\n       <use x=\"127.246094\" xlink:href=\"#DejaVuSans-48\"/>\n       <use x=\"190.869141\" xlink:href=\"#DejaVuSans-48\"/>\n       <use x=\"254.492188\" xlink:href=\"#DejaVuSans-48\"/>\n      </g>\n     </g>\n    </g>\n    <g id=\"xtick_8\">\n     <g id=\"line2d_8\">\n      <g>\n       <use style=\"stroke:#000000;stroke-width:0.8;\" x=\"380.13014\" xlink:href=\"#mce854e9ab5\" y=\"224.850758\"/>\n      </g>\n     </g>\n     <g id=\"text_8\">\n      <!-- 25000 -->\n      <g transform=\"translate(364.22389 239.449195)scale(0.1 -0.1)\">\n       <use xlink:href=\"#DejaVuSans-50\"/>\n       <use x=\"63.623047\" xlink:href=\"#DejaVuSans-53\"/>\n       <use x=\"127.246094\" xlink:href=\"#DejaVuSans-48\"/>\n       <use x=\"190.869141\" xlink:href=\"#DejaVuSans-48\"/>\n       <use x=\"254.492188\" xlink:href=\"#DejaVuSans-48\"/>\n      </g>\n     </g>\n    </g>\n   </g>\n   <g id=\"matplotlib.axis_2\">\n    <g id=\"ytick_1\">\n     <g id=\"line2d_9\">\n      <defs>\n       <path d=\"M 0 0 \nL -3.5 0 \n\" id=\"m039f604b7f\" style=\"stroke:#000000;stroke-width:0.8;\"/>\n      </defs>\n      <g>\n       <use style=\"stroke:#000000;stroke-width:0.8;\" x=\"69.23125\" xlink:href=\"#m039f604b7f\" y=\"214.967122\"/>\n      </g>\n     </g>\n     <g id=\"text_9\">\n      <!-- 0.00000 -->\n      <g transform=\"translate(20.878125 218.76634)scale(0.1 -0.1)\">\n       <defs>\n        <path d=\"M 10.6875 12.40625 \nL 21 12.40625 \nL 21 0 \nL 10.6875 0 \nz\n\" id=\"DejaVuSans-46\"/>\n       </defs>\n       <use xlink:href=\"#DejaVuSans-48\"/>\n       <use x=\"63.623047\" xlink:href=\"#DejaVuSans-46\"/>\n       <use x=\"95.410156\" xlink:href=\"#DejaVuSans-48\"/>\n       <use x=\"159.033203\" xlink:href=\"#DejaVuSans-48\"/>\n       <use x=\"222.65625\" xlink:href=\"#DejaVuSans-48\"/>\n       <use x=\"286.279297\" xlink:href=\"#DejaVuSans-48\"/>\n       <use x=\"349.902344\" xlink:href=\"#DejaVuSans-48\"/>\n      </g>\n     </g>\n    </g>\n    <g id=\"ytick_2\">\n     <g id=\"line2d_10\">\n      <g>\n       <use style=\"stroke:#000000;stroke-width:0.8;\" x=\"69.23125\" xlink:href=\"#m039f604b7f\" y=\"189.471134\"/>\n      </g>\n     </g>\n     <g id=\"text_10\">\n      <!-- 0.00005 -->\n      <g transform=\"translate(20.878125 193.270352)scale(0.1 -0.1)\">\n       <use xlink:href=\"#DejaVuSans-48\"/>\n       <use x=\"63.623047\" xlink:href=\"#DejaVuSans-46\"/>\n       <use x=\"95.410156\" xlink:href=\"#DejaVuSans-48\"/>\n       <use x=\"159.033203\" xlink:href=\"#DejaVuSans-48\"/>\n       <use x=\"222.65625\" xlink:href=\"#DejaVuSans-48\"/>\n       <use x=\"286.279297\" xlink:href=\"#DejaVuSans-48\"/>\n       <use x=\"349.902344\" xlink:href=\"#DejaVuSans-53\"/>\n      </g>\n     </g>\n    </g>\n    <g id=\"ytick_3\">\n     <g id=\"line2d_11\">\n      <g>\n       <use style=\"stroke:#000000;stroke-width:0.8;\" x=\"69.23125\" xlink:href=\"#m039f604b7f\" y=\"163.975146\"/>\n      </g>\n     </g>\n     <g id=\"text_11\">\n      <!-- 0.00010 -->\n      <g transform=\"translate(20.878125 167.774365)scale(0.1 -0.1)\">\n       <use xlink:href=\"#DejaVuSans-48\"/>\n       <use x=\"63.623047\" xlink:href=\"#DejaVuSans-46\"/>\n       <use x=\"95.410156\" xlink:href=\"#DejaVuSans-48\"/>\n       <use x=\"159.033203\" xlink:href=\"#DejaVuSans-48\"/>\n       <use x=\"222.65625\" xlink:href=\"#DejaVuSans-48\"/>\n       <use x=\"286.279297\" xlink:href=\"#DejaVuSans-49\"/>\n       <use x=\"349.902344\" xlink:href=\"#DejaVuSans-48\"/>\n      </g>\n     </g>\n    </g>\n    <g id=\"ytick_4\">\n     <g id=\"line2d_12\">\n      <g>\n       <use style=\"stroke:#000000;stroke-width:0.8;\" x=\"69.23125\" xlink:href=\"#m039f604b7f\" y=\"138.479158\"/>\n      </g>\n     </g>\n     <g id=\"text_12\">\n      <!-- 0.00015 -->\n      <g transform=\"translate(20.878125 142.278377)scale(0.1 -0.1)\">\n       <use xlink:href=\"#DejaVuSans-48\"/>\n       <use x=\"63.623047\" xlink:href=\"#DejaVuSans-46\"/>\n       <use x=\"95.410156\" xlink:href=\"#DejaVuSans-48\"/>\n       <use x=\"159.033203\" xlink:href=\"#DejaVuSans-48\"/>\n       <use x=\"222.65625\" xlink:href=\"#DejaVuSans-48\"/>\n       <use x=\"286.279297\" xlink:href=\"#DejaVuSans-49\"/>\n       <use x=\"349.902344\" xlink:href=\"#DejaVuSans-53\"/>\n      </g>\n     </g>\n    </g>\n    <g id=\"ytick_5\">\n     <g id=\"line2d_13\">\n      <g>\n       <use style=\"stroke:#000000;stroke-width:0.8;\" x=\"69.23125\" xlink:href=\"#m039f604b7f\" y=\"112.98317\"/>\n      </g>\n     </g>\n     <g id=\"text_13\">\n      <!-- 0.00020 -->\n      <g transform=\"translate(20.878125 116.782389)scale(0.1 -0.1)\">\n       <use xlink:href=\"#DejaVuSans-48\"/>\n       <use x=\"63.623047\" xlink:href=\"#DejaVuSans-46\"/>\n       <use x=\"95.410156\" xlink:href=\"#DejaVuSans-48\"/>\n       <use x=\"159.033203\" xlink:href=\"#DejaVuSans-48\"/>\n       <use x=\"222.65625\" xlink:href=\"#DejaVuSans-48\"/>\n       <use x=\"286.279297\" xlink:href=\"#DejaVuSans-50\"/>\n       <use x=\"349.902344\" xlink:href=\"#DejaVuSans-48\"/>\n      </g>\n     </g>\n    </g>\n    <g id=\"ytick_6\">\n     <g id=\"line2d_14\">\n      <g>\n       <use style=\"stroke:#000000;stroke-width:0.8;\" x=\"69.23125\" xlink:href=\"#m039f604b7f\" y=\"87.487182\"/>\n      </g>\n     </g>\n     <g id=\"text_14\">\n      <!-- 0.00025 -->\n      <g transform=\"translate(20.878125 91.286401)scale(0.1 -0.1)\">\n       <use xlink:href=\"#DejaVuSans-48\"/>\n       <use x=\"63.623047\" xlink:href=\"#DejaVuSans-46\"/>\n       <use x=\"95.410156\" xlink:href=\"#DejaVuSans-48\"/>\n       <use x=\"159.033203\" xlink:href=\"#DejaVuSans-48\"/>\n       <use x=\"222.65625\" xlink:href=\"#DejaVuSans-48\"/>\n       <use x=\"286.279297\" xlink:href=\"#DejaVuSans-50\"/>\n       <use x=\"349.902344\" xlink:href=\"#DejaVuSans-53\"/>\n      </g>\n     </g>\n    </g>\n    <g id=\"ytick_7\">\n     <g id=\"line2d_15\">\n      <g>\n       <use style=\"stroke:#000000;stroke-width:0.8;\" x=\"69.23125\" xlink:href=\"#m039f604b7f\" y=\"61.991194\"/>\n      </g>\n     </g>\n     <g id=\"text_15\">\n      <!-- 0.00030 -->\n      <g transform=\"translate(20.878125 65.790413)scale(0.1 -0.1)\">\n       <defs>\n        <path d=\"M 40.578125 39.3125 \nQ 47.65625 37.796875 51.625 33 \nQ 55.609375 28.21875 55.609375 21.1875 \nQ 55.609375 10.40625 48.1875 4.484375 \nQ 40.765625 -1.421875 27.09375 -1.421875 \nQ 22.515625 -1.421875 17.65625 -0.515625 \nQ 12.796875 0.390625 7.625 2.203125 \nL 7.625 11.71875 \nQ 11.71875 9.328125 16.59375 8.109375 \nQ 21.484375 6.890625 26.8125 6.890625 \nQ 36.078125 6.890625 40.9375 10.546875 \nQ 45.796875 14.203125 45.796875 21.1875 \nQ 45.796875 27.640625 41.28125 31.265625 \nQ 36.765625 34.90625 28.71875 34.90625 \nL 20.21875 34.90625 \nL 20.21875 43.015625 \nL 29.109375 43.015625 \nQ 36.375 43.015625 40.234375 45.921875 \nQ 44.09375 48.828125 44.09375 54.296875 \nQ 44.09375 59.90625 40.109375 62.90625 \nQ 36.140625 65.921875 28.71875 65.921875 \nQ 24.65625 65.921875 20.015625 65.03125 \nQ 15.375 64.15625 9.8125 62.3125 \nL 9.8125 71.09375 \nQ 15.4375 72.65625 20.34375 73.4375 \nQ 25.25 74.21875 29.59375 74.21875 \nQ 40.828125 74.21875 47.359375 69.109375 \nQ 53.90625 64.015625 53.90625 55.328125 \nQ 53.90625 49.265625 50.4375 45.09375 \nQ 46.96875 40.921875 40.578125 39.3125 \nz\n\" id=\"DejaVuSans-51\"/>\n       </defs>\n       <use xlink:href=\"#DejaVuSans-48\"/>\n       <use x=\"63.623047\" xlink:href=\"#DejaVuSans-46\"/>\n       <use x=\"95.410156\" xlink:href=\"#DejaVuSans-48\"/>\n       <use x=\"159.033203\" xlink:href=\"#DejaVuSans-48\"/>\n       <use x=\"222.65625\" xlink:href=\"#DejaVuSans-48\"/>\n       <use x=\"286.279297\" xlink:href=\"#DejaVuSans-51\"/>\n       <use x=\"349.902344\" xlink:href=\"#DejaVuSans-48\"/>\n      </g>\n     </g>\n    </g>\n    <g id=\"ytick_8\">\n     <g id=\"line2d_16\">\n      <g>\n       <use style=\"stroke:#000000;stroke-width:0.8;\" x=\"69.23125\" xlink:href=\"#m039f604b7f\" y=\"36.495207\"/>\n      </g>\n     </g>\n     <g id=\"text_16\">\n      <!-- 0.00035 -->\n      <g transform=\"translate(20.878125 40.294425)scale(0.1 -0.1)\">\n       <use xlink:href=\"#DejaVuSans-48\"/>\n       <use x=\"63.623047\" xlink:href=\"#DejaVuSans-46\"/>\n       <use x=\"95.410156\" xlink:href=\"#DejaVuSans-48\"/>\n       <use x=\"159.033203\" xlink:href=\"#DejaVuSans-48\"/>\n       <use x=\"222.65625\" xlink:href=\"#DejaVuSans-48\"/>\n       <use x=\"286.279297\" xlink:href=\"#DejaVuSans-51\"/>\n       <use x=\"349.902344\" xlink:href=\"#DejaVuSans-53\"/>\n      </g>\n     </g>\n    </g>\n    <g id=\"ytick_9\">\n     <g id=\"line2d_17\">\n      <g>\n       <use style=\"stroke:#000000;stroke-width:0.8;\" x=\"69.23125\" xlink:href=\"#m039f604b7f\" y=\"10.999219\"/>\n      </g>\n     </g>\n     <g id=\"text_17\">\n      <!-- 0.00040 -->\n      <g transform=\"translate(20.878125 14.798437)scale(0.1 -0.1)\">\n       <defs>\n        <path d=\"M 37.796875 64.3125 \nL 12.890625 25.390625 \nL 37.796875 25.390625 \nz\nM 35.203125 72.90625 \nL 47.609375 72.90625 \nL 47.609375 25.390625 \nL 58.015625 25.390625 \nL 58.015625 17.1875 \nL 47.609375 17.1875 \nL 47.609375 0 \nL 37.796875 0 \nL 37.796875 17.1875 \nL 4.890625 17.1875 \nL 4.890625 26.703125 \nz\n\" id=\"DejaVuSans-52\"/>\n       </defs>\n       <use xlink:href=\"#DejaVuSans-48\"/>\n       <use x=\"63.623047\" xlink:href=\"#DejaVuSans-46\"/>\n       <use x=\"95.410156\" xlink:href=\"#DejaVuSans-48\"/>\n       <use x=\"159.033203\" xlink:href=\"#DejaVuSans-48\"/>\n       <use x=\"222.65625\" xlink:href=\"#DejaVuSans-48\"/>\n       <use x=\"286.279297\" xlink:href=\"#DejaVuSans-52\"/>\n       <use x=\"349.902344\" xlink:href=\"#DejaVuSans-48\"/>\n      </g>\n     </g>\n    </g>\n    <g id=\"text_18\">\n     <!-- Density -->\n     <g transform=\"translate(14.798437 135.139352)rotate(-90)scale(0.1 -0.1)\">\n      <defs>\n       <path d=\"M 19.671875 64.796875 \nL 19.671875 8.109375 \nL 31.59375 8.109375 \nQ 46.6875 8.109375 53.6875 14.9375 \nQ 60.6875 21.78125 60.6875 36.53125 \nQ 60.6875 51.171875 53.6875 57.984375 \nQ 46.6875 64.796875 31.59375 64.796875 \nz\nM 9.8125 72.90625 \nL 30.078125 72.90625 \nQ 51.265625 72.90625 61.171875 64.09375 \nQ 71.09375 55.28125 71.09375 36.53125 \nQ 71.09375 17.671875 61.125 8.828125 \nQ 51.171875 0 30.078125 0 \nL 9.8125 0 \nz\n\" id=\"DejaVuSans-68\"/>\n       <path d=\"M 56.203125 29.59375 \nL 56.203125 25.203125 \nL 14.890625 25.203125 \nQ 15.484375 15.921875 20.484375 11.0625 \nQ 25.484375 6.203125 34.421875 6.203125 \nQ 39.59375 6.203125 44.453125 7.46875 \nQ 49.3125 8.734375 54.109375 11.28125 \nL 54.109375 2.78125 \nQ 49.265625 0.734375 44.1875 -0.34375 \nQ 39.109375 -1.421875 33.890625 -1.421875 \nQ 20.796875 -1.421875 13.15625 6.1875 \nQ 5.515625 13.8125 5.515625 26.8125 \nQ 5.515625 40.234375 12.765625 48.109375 \nQ 20.015625 56 32.328125 56 \nQ 43.359375 56 49.78125 48.890625 \nQ 56.203125 41.796875 56.203125 29.59375 \nz\nM 47.21875 32.234375 \nQ 47.125 39.59375 43.09375 43.984375 \nQ 39.0625 48.390625 32.421875 48.390625 \nQ 24.90625 48.390625 20.390625 44.140625 \nQ 15.875 39.890625 15.1875 32.171875 \nz\n\" id=\"DejaVuSans-101\"/>\n       <path d=\"M 54.890625 33.015625 \nL 54.890625 0 \nL 45.90625 0 \nL 45.90625 32.71875 \nQ 45.90625 40.484375 42.875 44.328125 \nQ 39.84375 48.1875 33.796875 48.1875 \nQ 26.515625 48.1875 22.3125 43.546875 \nQ 18.109375 38.921875 18.109375 30.90625 \nL 18.109375 0 \nL 9.078125 0 \nL 9.078125 54.6875 \nL 18.109375 54.6875 \nL 18.109375 46.1875 \nQ 21.34375 51.125 25.703125 53.5625 \nQ 30.078125 56 35.796875 56 \nQ 45.21875 56 50.046875 50.171875 \nQ 54.890625 44.34375 54.890625 33.015625 \nz\n\" id=\"DejaVuSans-110\"/>\n       <path d=\"M 44.28125 53.078125 \nL 44.28125 44.578125 \nQ 40.484375 46.53125 36.375 47.5 \nQ 32.28125 48.484375 27.875 48.484375 \nQ 21.1875 48.484375 17.84375 46.4375 \nQ 14.5 44.390625 14.5 40.28125 \nQ 14.5 37.15625 16.890625 35.375 \nQ 19.28125 33.59375 26.515625 31.984375 \nL 29.59375 31.296875 \nQ 39.15625 29.25 43.1875 25.515625 \nQ 47.21875 21.78125 47.21875 15.09375 \nQ 47.21875 7.46875 41.1875 3.015625 \nQ 35.15625 -1.421875 24.609375 -1.421875 \nQ 20.21875 -1.421875 15.453125 -0.5625 \nQ 10.6875 0.296875 5.421875 2 \nL 5.421875 11.28125 \nQ 10.40625 8.6875 15.234375 7.390625 \nQ 20.0625 6.109375 24.8125 6.109375 \nQ 31.15625 6.109375 34.5625 8.28125 \nQ 37.984375 10.453125 37.984375 14.40625 \nQ 37.984375 18.0625 35.515625 20.015625 \nQ 33.0625 21.96875 24.703125 23.78125 \nL 21.578125 24.515625 \nQ 13.234375 26.265625 9.515625 29.90625 \nQ 5.8125 33.546875 5.8125 39.890625 \nQ 5.8125 47.609375 11.28125 51.796875 \nQ 16.75 56 26.8125 56 \nQ 31.78125 56 36.171875 55.265625 \nQ 40.578125 54.546875 44.28125 53.078125 \nz\n\" id=\"DejaVuSans-115\"/>\n       <path d=\"M 9.421875 54.6875 \nL 18.40625 54.6875 \nL 18.40625 0 \nL 9.421875 0 \nz\nM 9.421875 75.984375 \nL 18.40625 75.984375 \nL 18.40625 64.59375 \nL 9.421875 64.59375 \nz\n\" id=\"DejaVuSans-105\"/>\n       <path d=\"M 18.3125 70.21875 \nL 18.3125 54.6875 \nL 36.8125 54.6875 \nL 36.8125 47.703125 \nL 18.3125 47.703125 \nL 18.3125 18.015625 \nQ 18.3125 11.328125 20.140625 9.421875 \nQ 21.96875 7.515625 27.59375 7.515625 \nL 36.8125 7.515625 \nL 36.8125 0 \nL 27.59375 0 \nQ 17.1875 0 13.234375 3.875 \nQ 9.28125 7.765625 9.28125 18.015625 \nL 9.28125 47.703125 \nL 2.6875 47.703125 \nL 2.6875 54.6875 \nL 9.28125 54.6875 \nL 9.28125 70.21875 \nz\n\" id=\"DejaVuSans-116\"/>\n       <path d=\"M 32.171875 -5.078125 \nQ 28.375 -14.84375 24.75 -17.8125 \nQ 21.140625 -20.796875 15.09375 -20.796875 \nL 7.90625 -20.796875 \nL 7.90625 -13.28125 \nL 13.1875 -13.28125 \nQ 16.890625 -13.28125 18.9375 -11.515625 \nQ 21 -9.765625 23.484375 -3.21875 \nL 25.09375 0.875 \nL 2.984375 54.6875 \nL 12.5 54.6875 \nL 29.59375 11.921875 \nL 46.6875 54.6875 \nL 56.203125 54.6875 \nz\n\" id=\"DejaVuSans-121\"/>\n      </defs>\n      <use xlink:href=\"#DejaVuSans-68\"/>\n      <use x=\"77.001953\" xlink:href=\"#DejaVuSans-101\"/>\n      <use x=\"138.525391\" xlink:href=\"#DejaVuSans-110\"/>\n      <use x=\"201.904297\" xlink:href=\"#DejaVuSans-115\"/>\n      <use x=\"254.003906\" xlink:href=\"#DejaVuSans-105\"/>\n      <use x=\"281.787109\" xlink:href=\"#DejaVuSans-116\"/>\n      <use x=\"320.996094\" xlink:href=\"#DejaVuSans-121\"/>\n     </g>\n    </g>\n   </g>\n   <g id=\"line2d_18\">\n    <path clip-path=\"url(#p15b4b84574)\" d=\"M 84.449432 214.967122 \nL 128.016999 214.867099 \nL 130.759014 214.629406 \nL 132.587024 214.250696 \nL 133.805697 213.814983 \nL 135.02437 213.152823 \nL 135.938375 212.45164 \nL 136.85238 211.520453 \nL 137.766385 210.300053 \nL 138.68039 208.721788 \nL 139.594395 206.707985 \nL 140.5084 204.173136 \nL 141.422405 201.025994 \nL 142.33641 197.172706 \nL 143.250415 192.521057 \nL 144.469088 184.931384 \nL 145.687761 175.610106 \nL 146.906434 164.466699 \nL 148.429776 148.00493 \nL 149.953117 129.037362 \nL 152.390464 95.321445 \nL 155.132479 57.849239 \nL 156.65582 40.320168 \nL 157.569825 31.756049 \nL 158.48383 25.000733 \nL 159.093166 21.613693 \nL 159.702503 19.179482 \nL 160.31184 17.733136 \nL 160.616508 17.387195 \nL 160.921176 17.294394 \nL 161.225845 17.45473 \nL 161.530513 17.867204 \nL 162.13985 19.439645 \nL 162.749186 21.984266 \nL 163.358523 25.458829 \nL 164.272528 32.288638 \nL 165.186533 40.843814 \nL 166.405206 54.434824 \nL 168.233216 77.93797 \nL 172.498572 134.296264 \nL 174.021913 151.418622 \nL 175.545255 166.00522 \nL 176.763928 175.768986 \nL 177.982601 183.902759 \nL 179.201275 190.543392 \nL 180.419948 195.869958 \nL 181.638621 200.078034 \nL 182.857294 203.359774 \nL 184.075967 205.8904 \nL 185.294641 207.820734 \nL 186.513314 209.274743 \nL 187.731987 210.350723 \nL 188.95066 211.124744 \nL 190.169334 211.655122 \nL 191.692675 212.043323 \nL 193.216017 212.189756 \nL 195.044026 212.124735 \nL 197.176705 211.822045 \nL 201.746729 210.863394 \nL 204.793412 210.340399 \nL 207.230759 210.124314 \nL 209.668105 210.130783 \nL 212.105451 210.366255 \nL 214.847466 210.877812 \nL 218.198818 211.755382 \nL 225.206189 213.667947 \nL 228.252872 214.240967 \nL 231.604223 214.634569 \nL 235.564911 214.858532 \nL 241.962945 214.95587 \nL 270.601766 214.967111 \nL 291.014542 214.861086 \nL 295.279899 214.620588 \nL 298.935918 214.188412 \nL 302.591938 213.519441 \nL 309.294641 212.209416 \nL 311.731987 211.990595 \nL 314.169334 212.014014 \nL 316.60668 212.273998 \nL 319.653363 212.835209 \nL 326.660734 214.211389 \nL 330.012085 214.607339 \nL 333.972773 214.845247 \nL 340.066139 214.952195 \nL 362.916262 214.967121 \nL 388.813068 214.967122 \nL 388.813068 214.967122 \n\" style=\"fill:none;stroke:#1f77b4;stroke-linecap:square;stroke-width:1.5;\"/>\n   </g>\n   <g id=\"patch_3\">\n    <path d=\"M 69.23125 224.850758 \nL 69.23125 7.410758 \n\" style=\"fill:none;stroke:#000000;stroke-linecap:square;stroke-linejoin:miter;stroke-width:0.8;\"/>\n   </g>\n   <g id=\"patch_4\">\n    <path d=\"M 404.03125 224.850758 \nL 404.03125 7.410758 \n\" style=\"fill:none;stroke:#000000;stroke-linecap:square;stroke-linejoin:miter;stroke-width:0.8;\"/>\n   </g>\n   <g id=\"patch_5\">\n    <path d=\"M 69.23125 224.850758 \nL 404.03125 224.850758 \n\" style=\"fill:none;stroke:#000000;stroke-linecap:square;stroke-linejoin:miter;stroke-width:0.8;\"/>\n   </g>\n   <g id=\"patch_6\">\n    <path d=\"M 69.23125 7.410758 \nL 404.03125 7.410758 \n\" style=\"fill:none;stroke:#000000;stroke-linecap:square;stroke-linejoin:miter;stroke-width:0.8;\"/>\n   </g>\n  </g>\n </g>\n <defs>\n  <clipPath id=\"p15b4b84574\">\n   <rect height=\"217.44\" width=\"334.8\" x=\"69.23125\" y=\"7.410758\"/>\n  </clipPath>\n </defs>\n</svg>\n",
      "image/png": "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"
=======
      ]
>>>>>>> 8d7fa2142bd7a86e5fa448db46b8032999331c4e
     },
     "metadata": {
      "needs_background": "light"
     },
     "output_type": "display_data"
    }
   ],
   "source": [
    "# Visualize the value counts of CLASSIFICATION\n",
    "classification_counts.plot.density()"
   ]
  },
  {
   "cell_type": "code",
<<<<<<< HEAD
   "execution_count": 76,
   "source": [
    "# Determine which values to replace if counts are less than ..?\n",
    "replace_class = list(classification_counts[classification_counts<1800].index)\n",
    "\n",
    "# Replace in dataframe\n",
    "for cls in replace_class:\n",
    "    application_df.CLASSIFICATION = application_df.CLASSIFICATION.replace(cls,\"Other\")\n",
    "    \n",
    "# Check to make sure binning was successful\n",
    "application_df.CLASSIFICATION.value_counts()"
   ],
=======
   "execution_count": 9,
   "metadata": {},
>>>>>>> 8d7fa2142bd7a86e5fa448db46b8032999331c4e
   "outputs": [
    {
     "data": {
      "text/plain": [
       "C1000    17326\n",
       "C2000     6074\n",
       "C1200     4837\n",
       "Other     2261\n",
       "C3000     1918\n",
       "C2100     1883\n",
       "Name: CLASSIFICATION, dtype: int64"
      ]
     },
     "execution_count": 9,
     "metadata": {},
<<<<<<< HEAD
     "execution_count": 76
    }
   ],
   "metadata": {}
  },
  {
   "cell_type": "markdown",
   "source": [
    "DELIVERABLE 3 - BIN ASK_AMT to reduce noise"
   ],
   "metadata": {}
  },
  {
   "cell_type": "code",
   "execution_count": 77,
   "source": [
    "application_df.dtypes"
   ],
   "outputs": [
    {
     "output_type": "execute_result",
     "data": {
      "text/plain": [
       "APPLICATION_TYPE          object\n",
       "AFFILIATION               object\n",
       "CLASSIFICATION            object\n",
       "USE_CASE                  object\n",
       "ORGANIZATION              object\n",
       "STATUS                     int64\n",
       "INCOME_AMT                object\n",
       "SPECIAL_CONSIDERATIONS    object\n",
       "ASK_AMT                    int64\n",
       "IS_SUCCESSFUL              int64\n",
       "dtype: object"
      ]
     },
     "metadata": {},
     "execution_count": 77
    }
   ],
   "metadata": {}
  },
  {
   "cell_type": "code",
   "execution_count": 78,
   "source": [
    "# Check ASK_AMT Values - 8747 unique values\n",
    "application_df.ASK_AMT.value_counts()"
   ],
   "outputs": [
    {
     "output_type": "execute_result",
     "data": {
      "text/plain": [
       "5000       25398\n",
       "15583          3\n",
       "6725           3\n",
       "63981          3\n",
       "10478          3\n",
       "           ...  \n",
       "75598          1\n",
       "22336          1\n",
       "44863          1\n",
       "5928           1\n",
       "6948863        1\n",
       "Name: ASK_AMT, Length: 8747, dtype: int64"
      ]
     },
     "metadata": {},
     "execution_count": 78
    }
   ],
   "metadata": {}
  },
  {
   "cell_type": "code",
   "execution_count": 79,
   "source": [
    "# Get ASK_AMT description\n",
    "application_df['ASK_AMT'].describe()"
   ],
   "outputs": [
    {
     "output_type": "execute_result",
     "data": {
      "text/plain": [
       "count    3.429900e+04\n",
       "mean     2.769199e+06\n",
       "std      8.713045e+07\n",
       "min      5.000000e+03\n",
       "25%      5.000000e+03\n",
       "50%      5.000000e+03\n",
       "75%      7.742000e+03\n",
       "max      8.597806e+09\n",
       "Name: ASK_AMT, dtype: float64"
      ]
     },
     "metadata": {},
     "execution_count": 79
=======
     "output_type": "execute_result"
>>>>>>> 8d7fa2142bd7a86e5fa448db46b8032999331c4e
    }
   ],
   "source": [
    "# Determine which values to replace if counts are less than ..?\n",
    "replace_class = list(classification_counts[classification_counts<1800].index)\n",
    "\n",
    "# Replace in dataframe\n",
    "for cls in replace_class:\n",
    "    application_df.CLASSIFICATION = application_df.CLASSIFICATION.replace(cls,\"Other\")\n",
    "    \n",
    "# Check to make sure binning was successful\n",
    "application_df.CLASSIFICATION.value_counts()"
   ]
  },
  {
   "cell_type": "code",
<<<<<<< HEAD
   "execution_count": 80,
   "source": [
    "# Use qcut for 10 equal sized bins\n",
    "labels = [\"Under 5000\", \"5k to 50k\", \"50k to 500K\", \"500K to 5M\", \"5M to 50M\", \"50M to 50B\"]\n",
    "bins = [0, 5000, 50000, 500000, 5000000, 50000000, 50000000000]\n",
    "application_df[\"ASK_AMT_BINNED\"] = pd.cut(application_df['ASK_AMT'], bins=bins, labels=labels).astype(object)\n",
    "\n",
    "application_df = application_df.drop(columns=[\"ASK_AMT\"])\n",
    "\n",
    "application_df.head()"
   ],
   "outputs": [
    {
     "output_type": "execute_result",
     "data": {
      "text/plain": [
       "  APPLICATION_TYPE       AFFILIATION CLASSIFICATION      USE_CASE  \\\n",
       "0            Other       Independent          C1000    ProductDev   \n",
       "1               T3       Independent          C2000  Preservation   \n",
       "2               T5  CompanySponsored          C3000    ProductDev   \n",
       "3               T3  CompanySponsored          C2000  Preservation   \n",
       "4               T3       Independent          C1000     Heathcare   \n",
       "\n",
       "   ORGANIZATION  STATUS     INCOME_AMT SPECIAL_CONSIDERATIONS  IS_SUCCESSFUL  \\\n",
       "0   Association       1              0                      N              1   \n",
       "1  Co-operative       1         1-9999                      N              1   \n",
       "2   Association       1              0                      N              0   \n",
       "3         Trust       1    10000-24999                      N              1   \n",
       "4         Trust       1  100000-499999                      N              1   \n",
       "\n",
       "  ASK_AMT_BINNED  \n",
       "0     Under 5000  \n",
       "1    50k to 500K  \n",
       "2     Under 5000  \n",
       "3      5k to 50k  \n",
       "4    50k to 500K  "
      ],
      "text/html": [
       "<div>\n",
       "<style scoped>\n",
       "    .dataframe tbody tr th:only-of-type {\n",
       "        vertical-align: middle;\n",
       "    }\n",
       "\n",
       "    .dataframe tbody tr th {\n",
       "        vertical-align: top;\n",
       "    }\n",
       "\n",
       "    .dataframe thead th {\n",
       "        text-align: right;\n",
       "    }\n",
       "</style>\n",
       "<table border=\"1\" class=\"dataframe\">\n",
       "  <thead>\n",
       "    <tr style=\"text-align: right;\">\n",
       "      <th></th>\n",
       "      <th>APPLICATION_TYPE</th>\n",
       "      <th>AFFILIATION</th>\n",
       "      <th>CLASSIFICATION</th>\n",
       "      <th>USE_CASE</th>\n",
       "      <th>ORGANIZATION</th>\n",
       "      <th>STATUS</th>\n",
       "      <th>INCOME_AMT</th>\n",
       "      <th>SPECIAL_CONSIDERATIONS</th>\n",
       "      <th>IS_SUCCESSFUL</th>\n",
       "      <th>ASK_AMT_BINNED</th>\n",
       "    </tr>\n",
       "  </thead>\n",
       "  <tbody>\n",
       "    <tr>\n",
       "      <th>0</th>\n",
       "      <td>Other</td>\n",
       "      <td>Independent</td>\n",
       "      <td>C1000</td>\n",
       "      <td>ProductDev</td>\n",
       "      <td>Association</td>\n",
       "      <td>1</td>\n",
       "      <td>0</td>\n",
       "      <td>N</td>\n",
       "      <td>1</td>\n",
       "      <td>Under 5000</td>\n",
       "    </tr>\n",
       "    <tr>\n",
       "      <th>1</th>\n",
       "      <td>T3</td>\n",
       "      <td>Independent</td>\n",
       "      <td>C2000</td>\n",
       "      <td>Preservation</td>\n",
       "      <td>Co-operative</td>\n",
       "      <td>1</td>\n",
       "      <td>1-9999</td>\n",
       "      <td>N</td>\n",
       "      <td>1</td>\n",
       "      <td>50k to 500K</td>\n",
       "    </tr>\n",
       "    <tr>\n",
       "      <th>2</th>\n",
       "      <td>T5</td>\n",
       "      <td>CompanySponsored</td>\n",
       "      <td>C3000</td>\n",
       "      <td>ProductDev</td>\n",
       "      <td>Association</td>\n",
       "      <td>1</td>\n",
       "      <td>0</td>\n",
       "      <td>N</td>\n",
       "      <td>0</td>\n",
       "      <td>Under 5000</td>\n",
       "    </tr>\n",
       "    <tr>\n",
       "      <th>3</th>\n",
       "      <td>T3</td>\n",
       "      <td>CompanySponsored</td>\n",
       "      <td>C2000</td>\n",
       "      <td>Preservation</td>\n",
       "      <td>Trust</td>\n",
       "      <td>1</td>\n",
       "      <td>10000-24999</td>\n",
       "      <td>N</td>\n",
       "      <td>1</td>\n",
       "      <td>5k to 50k</td>\n",
       "    </tr>\n",
       "    <tr>\n",
       "      <th>4</th>\n",
       "      <td>T3</td>\n",
       "      <td>Independent</td>\n",
       "      <td>C1000</td>\n",
       "      <td>Heathcare</td>\n",
       "      <td>Trust</td>\n",
       "      <td>1</td>\n",
       "      <td>100000-499999</td>\n",
       "      <td>N</td>\n",
       "      <td>1</td>\n",
       "      <td>50k to 500K</td>\n",
       "    </tr>\n",
       "  </tbody>\n",
       "</table>\n",
       "</div>"
      ]
     },
     "metadata": {},
     "execution_count": 80
    }
   ],
   "metadata": {}
  },
  {
   "cell_type": "code",
   "execution_count": 81,
   "source": [
    "application_df[\"ASK_AMT_BINNED\"].value_counts()\n"
   ],
   "outputs": [
    {
     "output_type": "execute_result",
     "data": {
      "text/plain": [
       "Under 5000     25398\n",
       "50k to 500K     3727\n",
       "5k to 50k       2947\n",
       "500K to 5M      1590\n",
       "5M to 50M        483\n",
       "50M to 50B       154\n",
       "Name: ASK_AMT_BINNED, dtype: int64"
      ]
     },
     "metadata": {},
     "execution_count": 81
    }
   ],
   "metadata": {}
  },
  {
   "cell_type": "code",
   "execution_count": 82,
   "source": [
    "# Generate our categorical variable lists\n",
    "application_cat = application_df.dtypes[application_df.dtypes == \"object\"].index.tolist()\n",
    "application_cat"
   ],
=======
   "execution_count": 10,
   "metadata": {},
>>>>>>> 8d7fa2142bd7a86e5fa448db46b8032999331c4e
   "outputs": [
    {
     "data": {
      "text/plain": [
       "['APPLICATION_TYPE',\n",
       " 'AFFILIATION',\n",
       " 'CLASSIFICATION',\n",
       " 'USE_CASE',\n",
       " 'ORGANIZATION',\n",
       " 'INCOME_AMT',\n",
       " 'SPECIAL_CONSIDERATIONS',\n",
       " 'ASK_AMT_BINNED']"
      ]
     },
     "execution_count": 10,
     "metadata": {},
<<<<<<< HEAD
     "execution_count": 82
=======
     "output_type": "execute_result"
>>>>>>> 8d7fa2142bd7a86e5fa448db46b8032999331c4e
    }
   ],
   "source": [
    "# Generate our categorical variable lists\n",
    "application_cat = application_df.dtypes[application_df.dtypes == \"object\"].index.tolist()\n",
    "application_cat"
   ]
  },
  {
   "cell_type": "code",
<<<<<<< HEAD
   "execution_count": 83,
   "source": [
    "# Create a OneHotEncoder instance\n",
    "enc = OneHotEncoder(sparse=False)\n",
    "\n",
    "# Fit and transform the OneHotEncoder using the categorical variable list\n",
    "application_df_encoded = enc.fit_transform(application_df[application_cat])\n",
    "encode_df = pd.DataFrame(application_df_encoded)\n",
    "\n",
    "# Add the encoded variable names to the dataframe\n",
    "encode_df.columns = enc.get_feature_names(application_cat)\n",
    "encode_df.head()"
   ],
=======
   "execution_count": 11,
   "metadata": {},
>>>>>>> 8d7fa2142bd7a86e5fa448db46b8032999331c4e
   "outputs": [
    {
     "data": {
<<<<<<< HEAD
      "text/plain": [
       "   APPLICATION_TYPE_Other  APPLICATION_TYPE_T19  APPLICATION_TYPE_T3  \\\n",
       "0                     1.0                   0.0                  0.0   \n",
       "1                     0.0                   0.0                  1.0   \n",
       "2                     0.0                   0.0                  0.0   \n",
       "3                     0.0                   0.0                  1.0   \n",
       "4                     0.0                   0.0                  1.0   \n",
       "\n",
       "   APPLICATION_TYPE_T4  APPLICATION_TYPE_T5  APPLICATION_TYPE_T6  \\\n",
       "0                  0.0                  0.0                  0.0   \n",
       "1                  0.0                  0.0                  0.0   \n",
       "2                  0.0                  1.0                  0.0   \n",
       "3                  0.0                  0.0                  0.0   \n",
       "4                  0.0                  0.0                  0.0   \n",
       "\n",
       "   AFFILIATION_CompanySponsored  AFFILIATION_Independent  AFFILIATION_Other  \\\n",
       "0                           0.0                      1.0                0.0   \n",
       "1                           0.0                      1.0                0.0   \n",
       "2                           1.0                      0.0                0.0   \n",
       "3                           1.0                      0.0                0.0   \n",
       "4                           0.0                      1.0                0.0   \n",
       "\n",
       "   CLASSIFICATION_C1000  ...  INCOME_AMT_50M+  INCOME_AMT_5M-10M  \\\n",
       "0                   1.0  ...              0.0                0.0   \n",
       "1                   0.0  ...              0.0                0.0   \n",
       "2                   0.0  ...              0.0                0.0   \n",
       "3                   0.0  ...              0.0                0.0   \n",
       "4                   1.0  ...              0.0                0.0   \n",
       "\n",
       "   SPECIAL_CONSIDERATIONS_N  SPECIAL_CONSIDERATIONS_Y  \\\n",
       "0                       1.0                       0.0   \n",
       "1                       1.0                       0.0   \n",
       "2                       1.0                       0.0   \n",
       "3                       1.0                       0.0   \n",
       "4                       1.0                       0.0   \n",
       "\n",
       "   ASK_AMT_BINNED_500K to 5M  ASK_AMT_BINNED_50M to 50B  \\\n",
       "0                        0.0                        0.0   \n",
       "1                        0.0                        0.0   \n",
       "2                        0.0                        0.0   \n",
       "3                        0.0                        0.0   \n",
       "4                        0.0                        0.0   \n",
       "\n",
       "   ASK_AMT_BINNED_50k to 500K  ASK_AMT_BINNED_5M to 50M  \\\n",
       "0                         0.0                       0.0   \n",
       "1                         1.0                       0.0   \n",
       "2                         0.0                       0.0   \n",
       "3                         0.0                       0.0   \n",
       "4                         1.0                       0.0   \n",
       "\n",
       "   ASK_AMT_BINNED_5k to 50k  ASK_AMT_BINNED_Under 5000  \n",
       "0                       0.0                        1.0  \n",
       "1                       0.0                        0.0  \n",
       "2                       0.0                        1.0  \n",
       "3                       1.0                        0.0  \n",
       "4                       0.0                        0.0  \n",
       "\n",
       "[5 rows x 41 columns]"
      ],
=======
>>>>>>> 8d7fa2142bd7a86e5fa448db46b8032999331c4e
      "text/html": [
       "<div>\n",
       "<style scoped>\n",
       "    .dataframe tbody tr th:only-of-type {\n",
       "        vertical-align: middle;\n",
       "    }\n",
       "\n",
       "    .dataframe tbody tr th {\n",
       "        vertical-align: top;\n",
       "    }\n",
       "\n",
       "    .dataframe thead th {\n",
       "        text-align: right;\n",
       "    }\n",
       "</style>\n",
       "<table border=\"1\" class=\"dataframe\">\n",
       "  <thead>\n",
       "    <tr style=\"text-align: right;\">\n",
       "      <th></th>\n",
       "      <th>APPLICATION_TYPE_Other</th>\n",
       "      <th>APPLICATION_TYPE_T19</th>\n",
       "      <th>APPLICATION_TYPE_T3</th>\n",
       "      <th>APPLICATION_TYPE_T4</th>\n",
       "      <th>APPLICATION_TYPE_T5</th>\n",
       "      <th>APPLICATION_TYPE_T6</th>\n",
       "      <th>AFFILIATION_CompanySponsored</th>\n",
       "      <th>AFFILIATION_Independent</th>\n",
       "      <th>AFFILIATION_Other</th>\n",
       "      <th>CLASSIFICATION_C1000</th>\n",
       "      <th>...</th>\n",
       "      <th>INCOME_AMT_50M+</th>\n",
       "      <th>INCOME_AMT_5M-10M</th>\n",
       "      <th>SPECIAL_CONSIDERATIONS_N</th>\n",
       "      <th>SPECIAL_CONSIDERATIONS_Y</th>\n",
       "      <th>ASK_AMT_BINNED_500K to 5M</th>\n",
       "      <th>ASK_AMT_BINNED_50M to 50B</th>\n",
       "      <th>ASK_AMT_BINNED_50k to 500K</th>\n",
       "      <th>ASK_AMT_BINNED_5M to 50M</th>\n",
       "      <th>ASK_AMT_BINNED_5k to 50k</th>\n",
       "      <th>ASK_AMT_BINNED_Under 5000</th>\n",
       "    </tr>\n",
       "  </thead>\n",
       "  <tbody>\n",
       "    <tr>\n",
       "      <th>0</th>\n",
       "      <td>1.0</td>\n",
       "      <td>0.0</td>\n",
       "      <td>0.0</td>\n",
       "      <td>0.0</td>\n",
       "      <td>0.0</td>\n",
       "      <td>0.0</td>\n",
       "      <td>0.0</td>\n",
       "      <td>1.0</td>\n",
       "      <td>0.0</td>\n",
       "      <td>1.0</td>\n",
       "      <td>...</td>\n",
       "      <td>0.0</td>\n",
       "      <td>0.0</td>\n",
       "      <td>1.0</td>\n",
       "      <td>0.0</td>\n",
       "      <td>0.0</td>\n",
       "      <td>0.0</td>\n",
       "      <td>0.0</td>\n",
       "      <td>0.0</td>\n",
       "      <td>0.0</td>\n",
       "      <td>1.0</td>\n",
       "    </tr>\n",
       "    <tr>\n",
       "      <th>1</th>\n",
       "      <td>0.0</td>\n",
       "      <td>0.0</td>\n",
       "      <td>1.0</td>\n",
       "      <td>0.0</td>\n",
       "      <td>0.0</td>\n",
       "      <td>0.0</td>\n",
       "      <td>0.0</td>\n",
       "      <td>1.0</td>\n",
       "      <td>0.0</td>\n",
       "      <td>0.0</td>\n",
       "      <td>...</td>\n",
       "      <td>0.0</td>\n",
       "      <td>0.0</td>\n",
       "      <td>1.0</td>\n",
       "      <td>0.0</td>\n",
       "      <td>0.0</td>\n",
       "      <td>0.0</td>\n",
       "      <td>1.0</td>\n",
       "      <td>0.0</td>\n",
       "      <td>0.0</td>\n",
       "      <td>0.0</td>\n",
       "    </tr>\n",
       "    <tr>\n",
       "      <th>2</th>\n",
       "      <td>0.0</td>\n",
       "      <td>0.0</td>\n",
       "      <td>0.0</td>\n",
       "      <td>0.0</td>\n",
       "      <td>1.0</td>\n",
       "      <td>0.0</td>\n",
       "      <td>1.0</td>\n",
       "      <td>0.0</td>\n",
       "      <td>0.0</td>\n",
       "      <td>0.0</td>\n",
       "      <td>...</td>\n",
       "      <td>0.0</td>\n",
       "      <td>0.0</td>\n",
       "      <td>1.0</td>\n",
       "      <td>0.0</td>\n",
       "      <td>0.0</td>\n",
       "      <td>0.0</td>\n",
       "      <td>0.0</td>\n",
       "      <td>0.0</td>\n",
       "      <td>0.0</td>\n",
       "      <td>1.0</td>\n",
       "    </tr>\n",
       "    <tr>\n",
       "      <th>3</th>\n",
       "      <td>0.0</td>\n",
       "      <td>0.0</td>\n",
       "      <td>1.0</td>\n",
       "      <td>0.0</td>\n",
       "      <td>0.0</td>\n",
       "      <td>0.0</td>\n",
       "      <td>1.0</td>\n",
       "      <td>0.0</td>\n",
       "      <td>0.0</td>\n",
       "      <td>0.0</td>\n",
       "      <td>...</td>\n",
       "      <td>0.0</td>\n",
       "      <td>0.0</td>\n",
       "      <td>1.0</td>\n",
       "      <td>0.0</td>\n",
       "      <td>0.0</td>\n",
       "      <td>0.0</td>\n",
       "      <td>0.0</td>\n",
       "      <td>0.0</td>\n",
       "      <td>1.0</td>\n",
       "      <td>0.0</td>\n",
       "    </tr>\n",
       "    <tr>\n",
       "      <th>4</th>\n",
       "      <td>0.0</td>\n",
       "      <td>0.0</td>\n",
       "      <td>1.0</td>\n",
       "      <td>0.0</td>\n",
       "      <td>0.0</td>\n",
       "      <td>0.0</td>\n",
       "      <td>0.0</td>\n",
       "      <td>1.0</td>\n",
       "      <td>0.0</td>\n",
       "      <td>1.0</td>\n",
       "      <td>...</td>\n",
       "      <td>0.0</td>\n",
       "      <td>0.0</td>\n",
       "      <td>1.0</td>\n",
       "      <td>0.0</td>\n",
       "      <td>0.0</td>\n",
       "      <td>0.0</td>\n",
       "      <td>1.0</td>\n",
       "      <td>0.0</td>\n",
       "      <td>0.0</td>\n",
       "      <td>0.0</td>\n",
       "    </tr>\n",
       "  </tbody>\n",
       "</table>\n",
       "<p>5 rows × 41 columns</p>\n",
       "</div>"
      ],
      "text/plain": [
       "   APPLICATION_TYPE_Other  APPLICATION_TYPE_T10  APPLICATION_TYPE_T19  \\\n",
       "0                     0.0                   1.0                   0.0   \n",
       "1                     0.0                   0.0                   0.0   \n",
       "2                     0.0                   0.0                   0.0   \n",
       "3                     0.0                   0.0                   0.0   \n",
       "4                     0.0                   0.0                   0.0   \n",
       "\n",
       "   APPLICATION_TYPE_T3  APPLICATION_TYPE_T4  APPLICATION_TYPE_T5  \\\n",
       "0                  0.0                  0.0                  0.0   \n",
       "1                  1.0                  0.0                  0.0   \n",
       "2                  0.0                  0.0                  1.0   \n",
       "3                  1.0                  0.0                  0.0   \n",
       "4                  1.0                  0.0                  0.0   \n",
       "\n",
       "   APPLICATION_TYPE_T6  APPLICATION_TYPE_T7  APPLICATION_TYPE_T8  \\\n",
       "0                  0.0                  0.0                  0.0   \n",
       "1                  0.0                  0.0                  0.0   \n",
       "2                  0.0                  0.0                  0.0   \n",
       "3                  0.0                  0.0                  0.0   \n",
       "4                  0.0                  0.0                  0.0   \n",
       "\n",
       "   AFFILIATION_CompanySponsored  ...  INCOME_AMT_1-9999  \\\n",
       "0                           0.0  ...                0.0   \n",
       "1                           0.0  ...                1.0   \n",
       "2                           1.0  ...                0.0   \n",
       "3                           1.0  ...                0.0   \n",
       "4                           0.0  ...                0.0   \n",
       "\n",
       "   INCOME_AMT_10000-24999  INCOME_AMT_100000-499999  INCOME_AMT_10M-50M  \\\n",
       "0                     0.0                       0.0                 0.0   \n",
       "1                     0.0                       0.0                 0.0   \n",
       "2                     0.0                       0.0                 0.0   \n",
       "3                     1.0                       0.0                 0.0   \n",
       "4                     0.0                       1.0                 0.0   \n",
       "\n",
       "   INCOME_AMT_1M-5M  INCOME_AMT_25000-99999  INCOME_AMT_50M+  \\\n",
       "0               0.0                     0.0              0.0   \n",
       "1               0.0                     0.0              0.0   \n",
       "2               0.0                     0.0              0.0   \n",
       "3               0.0                     0.0              0.0   \n",
       "4               0.0                     0.0              0.0   \n",
       "\n",
       "   INCOME_AMT_5M-10M  SPECIAL_CONSIDERATIONS_N  SPECIAL_CONSIDERATIONS_Y  \n",
       "0                0.0                       1.0                       0.0  \n",
       "1                0.0                       1.0                       0.0  \n",
       "2                0.0                       1.0                       0.0  \n",
       "3                0.0                       1.0                       0.0  \n",
       "4                0.0                       1.0                       0.0  \n",
       "\n",
       "[5 rows x 41 columns]"
      ]
     },
     "execution_count": 11,
     "metadata": {},
<<<<<<< HEAD
     "execution_count": 83
=======
     "output_type": "execute_result"
>>>>>>> 8d7fa2142bd7a86e5fa448db46b8032999331c4e
    }
   ],
   "source": [
    "# Create a OneHotEncoder instance\n",
    "enc = OneHotEncoder(sparse=False)\n",
    "\n",
    "# Fit and transform the OneHotEncoder using the categorical variable list\n",
    "application_df_encoded = enc.fit_transform(application_df[application_cat])\n",
    "encode_df = pd.DataFrame(application_df_encoded)\n",
    "\n",
    "# Add the encoded variable names to the dataframe\n",
    "encode_df.columns = enc.get_feature_names(application_cat)\n",
    "encode_df.head()"
   ]
  },
  {
   "cell_type": "code",
<<<<<<< HEAD
   "execution_count": 84,
   "source": [
    "# Merge one-hot encoded features and drop the originals\n",
    "application_merge_df = application_df.merge(encode_df, left_index=True, right_index=True).drop(application_cat,1)\n",
    "\n",
    "# Drop status\n",
    "# application_merge_df = application_merge_df.drop([\"STATUS\"],1)\n",
    "\n",
    "application_merge_df.head()"
   ],
=======
   "execution_count": 12,
   "metadata": {},
>>>>>>> 8d7fa2142bd7a86e5fa448db46b8032999331c4e
   "outputs": [
    {
     "data": {
<<<<<<< HEAD
      "text/plain": [
       "   STATUS  IS_SUCCESSFUL  APPLICATION_TYPE_Other  APPLICATION_TYPE_T19  \\\n",
       "0       1              1                     1.0                   0.0   \n",
       "1       1              1                     0.0                   0.0   \n",
       "2       1              0                     0.0                   0.0   \n",
       "3       1              1                     0.0                   0.0   \n",
       "4       1              1                     0.0                   0.0   \n",
       "\n",
       "   APPLICATION_TYPE_T3  APPLICATION_TYPE_T4  APPLICATION_TYPE_T5  \\\n",
       "0                  0.0                  0.0                  0.0   \n",
       "1                  1.0                  0.0                  0.0   \n",
       "2                  0.0                  0.0                  1.0   \n",
       "3                  1.0                  0.0                  0.0   \n",
       "4                  1.0                  0.0                  0.0   \n",
       "\n",
       "   APPLICATION_TYPE_T6  AFFILIATION_CompanySponsored  AFFILIATION_Independent  \\\n",
       "0                  0.0                           0.0                      1.0   \n",
       "1                  0.0                           0.0                      1.0   \n",
       "2                  0.0                           1.0                      0.0   \n",
       "3                  0.0                           1.0                      0.0   \n",
       "4                  0.0                           0.0                      1.0   \n",
       "\n",
       "   ...  INCOME_AMT_50M+  INCOME_AMT_5M-10M  SPECIAL_CONSIDERATIONS_N  \\\n",
       "0  ...              0.0                0.0                       1.0   \n",
       "1  ...              0.0                0.0                       1.0   \n",
       "2  ...              0.0                0.0                       1.0   \n",
       "3  ...              0.0                0.0                       1.0   \n",
       "4  ...              0.0                0.0                       1.0   \n",
       "\n",
       "   SPECIAL_CONSIDERATIONS_Y  ASK_AMT_BINNED_500K to 5M  \\\n",
       "0                       0.0                        0.0   \n",
       "1                       0.0                        0.0   \n",
       "2                       0.0                        0.0   \n",
       "3                       0.0                        0.0   \n",
       "4                       0.0                        0.0   \n",
       "\n",
       "   ASK_AMT_BINNED_50M to 50B  ASK_AMT_BINNED_50k to 500K  \\\n",
       "0                        0.0                         0.0   \n",
       "1                        0.0                         1.0   \n",
       "2                        0.0                         0.0   \n",
       "3                        0.0                         0.0   \n",
       "4                        0.0                         1.0   \n",
       "\n",
       "   ASK_AMT_BINNED_5M to 50M  ASK_AMT_BINNED_5k to 50k  \\\n",
       "0                       0.0                       0.0   \n",
       "1                       0.0                       0.0   \n",
       "2                       0.0                       0.0   \n",
       "3                       0.0                       1.0   \n",
       "4                       0.0                       0.0   \n",
       "\n",
       "   ASK_AMT_BINNED_Under 5000  \n",
       "0                        1.0  \n",
       "1                        0.0  \n",
       "2                        1.0  \n",
       "3                        0.0  \n",
       "4                        0.0  \n",
       "\n",
       "[5 rows x 43 columns]"
      ],
=======
>>>>>>> 8d7fa2142bd7a86e5fa448db46b8032999331c4e
      "text/html": [
       "<div>\n",
       "<style scoped>\n",
       "    .dataframe tbody tr th:only-of-type {\n",
       "        vertical-align: middle;\n",
       "    }\n",
       "\n",
       "    .dataframe tbody tr th {\n",
       "        vertical-align: top;\n",
       "    }\n",
       "\n",
       "    .dataframe thead th {\n",
       "        text-align: right;\n",
       "    }\n",
       "</style>\n",
       "<table border=\"1\" class=\"dataframe\">\n",
       "  <thead>\n",
       "    <tr style=\"text-align: right;\">\n",
       "      <th></th>\n",
       "      <th>STATUS</th>\n",
       "      <th>IS_SUCCESSFUL</th>\n",
       "      <th>APPLICATION_TYPE_Other</th>\n",
       "      <th>APPLICATION_TYPE_T19</th>\n",
       "      <th>APPLICATION_TYPE_T3</th>\n",
       "      <th>APPLICATION_TYPE_T4</th>\n",
       "      <th>APPLICATION_TYPE_T5</th>\n",
       "      <th>APPLICATION_TYPE_T6</th>\n",
       "      <th>AFFILIATION_CompanySponsored</th>\n",
       "      <th>AFFILIATION_Independent</th>\n",
       "      <th>...</th>\n",
       "      <th>INCOME_AMT_50M+</th>\n",
       "      <th>INCOME_AMT_5M-10M</th>\n",
       "      <th>SPECIAL_CONSIDERATIONS_N</th>\n",
       "      <th>SPECIAL_CONSIDERATIONS_Y</th>\n",
       "      <th>ASK_AMT_BINNED_500K to 5M</th>\n",
       "      <th>ASK_AMT_BINNED_50M to 50B</th>\n",
       "      <th>ASK_AMT_BINNED_50k to 500K</th>\n",
       "      <th>ASK_AMT_BINNED_5M to 50M</th>\n",
       "      <th>ASK_AMT_BINNED_5k to 50k</th>\n",
       "      <th>ASK_AMT_BINNED_Under 5000</th>\n",
       "    </tr>\n",
       "  </thead>\n",
       "  <tbody>\n",
       "    <tr>\n",
       "      <th>0</th>\n",
       "      <td>1</td>\n",
       "      <td>1</td>\n",
       "      <td>1.0</td>\n",
       "      <td>0.0</td>\n",
       "      <td>0.0</td>\n",
       "      <td>0.0</td>\n",
       "      <td>0.0</td>\n",
       "      <td>0.0</td>\n",
       "      <td>0.0</td>\n",
       "      <td>1.0</td>\n",
       "      <td>...</td>\n",
       "      <td>0.0</td>\n",
       "      <td>0.0</td>\n",
       "      <td>1.0</td>\n",
       "      <td>0.0</td>\n",
       "      <td>0.0</td>\n",
       "      <td>0.0</td>\n",
       "      <td>0.0</td>\n",
       "      <td>0.0</td>\n",
       "      <td>0.0</td>\n",
       "      <td>1.0</td>\n",
       "    </tr>\n",
       "    <tr>\n",
       "      <th>1</th>\n",
       "      <td>1</td>\n",
       "      <td>1</td>\n",
       "      <td>0.0</td>\n",
       "      <td>0.0</td>\n",
       "      <td>1.0</td>\n",
       "      <td>0.0</td>\n",
       "      <td>0.0</td>\n",
       "      <td>0.0</td>\n",
       "      <td>0.0</td>\n",
       "      <td>1.0</td>\n",
       "      <td>...</td>\n",
       "      <td>0.0</td>\n",
       "      <td>0.0</td>\n",
       "      <td>1.0</td>\n",
       "      <td>0.0</td>\n",
       "      <td>0.0</td>\n",
       "      <td>0.0</td>\n",
       "      <td>1.0</td>\n",
       "      <td>0.0</td>\n",
       "      <td>0.0</td>\n",
       "      <td>0.0</td>\n",
       "    </tr>\n",
       "    <tr>\n",
       "      <th>2</th>\n",
       "      <td>1</td>\n",
       "      <td>0</td>\n",
       "      <td>0.0</td>\n",
       "      <td>0.0</td>\n",
       "      <td>0.0</td>\n",
       "      <td>0.0</td>\n",
       "      <td>1.0</td>\n",
       "      <td>0.0</td>\n",
       "      <td>1.0</td>\n",
       "      <td>0.0</td>\n",
       "      <td>...</td>\n",
       "      <td>0.0</td>\n",
       "      <td>0.0</td>\n",
       "      <td>1.0</td>\n",
       "      <td>0.0</td>\n",
       "      <td>0.0</td>\n",
       "      <td>0.0</td>\n",
       "      <td>0.0</td>\n",
       "      <td>0.0</td>\n",
       "      <td>0.0</td>\n",
       "      <td>1.0</td>\n",
       "    </tr>\n",
       "    <tr>\n",
       "      <th>3</th>\n",
       "      <td>1</td>\n",
       "      <td>1</td>\n",
       "      <td>0.0</td>\n",
       "      <td>0.0</td>\n",
       "      <td>1.0</td>\n",
       "      <td>0.0</td>\n",
       "      <td>0.0</td>\n",
       "      <td>0.0</td>\n",
       "      <td>1.0</td>\n",
       "      <td>0.0</td>\n",
       "      <td>...</td>\n",
       "      <td>0.0</td>\n",
       "      <td>0.0</td>\n",
       "      <td>1.0</td>\n",
       "      <td>0.0</td>\n",
       "      <td>0.0</td>\n",
       "      <td>0.0</td>\n",
       "      <td>0.0</td>\n",
       "      <td>0.0</td>\n",
       "      <td>1.0</td>\n",
       "      <td>0.0</td>\n",
       "    </tr>\n",
       "    <tr>\n",
       "      <th>4</th>\n",
       "      <td>1</td>\n",
       "      <td>1</td>\n",
       "      <td>0.0</td>\n",
       "      <td>0.0</td>\n",
       "      <td>1.0</td>\n",
       "      <td>0.0</td>\n",
       "      <td>0.0</td>\n",
       "      <td>0.0</td>\n",
       "      <td>0.0</td>\n",
       "      <td>1.0</td>\n",
       "      <td>...</td>\n",
       "      <td>0.0</td>\n",
       "      <td>0.0</td>\n",
       "      <td>1.0</td>\n",
       "      <td>0.0</td>\n",
       "      <td>0.0</td>\n",
       "      <td>0.0</td>\n",
       "      <td>1.0</td>\n",
       "      <td>0.0</td>\n",
       "      <td>0.0</td>\n",
       "      <td>0.0</td>\n",
       "    </tr>\n",
       "  </tbody>\n",
       "</table>\n",
       "<p>5 rows × 43 columns</p>\n",
       "</div>"
      ],
      "text/plain": [
       "   STATUS  ASK_AMT  IS_SUCCESSFUL  APPLICATION_TYPE_Other  \\\n",
       "0       1     5000              1                     0.0   \n",
       "1       1   108590              1                     0.0   \n",
       "2       1     5000              0                     0.0   \n",
       "3       1     6692              1                     0.0   \n",
       "4       1   142590              1                     0.0   \n",
       "\n",
       "   APPLICATION_TYPE_T10  APPLICATION_TYPE_T19  APPLICATION_TYPE_T3  \\\n",
       "0                   1.0                   0.0                  0.0   \n",
       "1                   0.0                   0.0                  1.0   \n",
       "2                   0.0                   0.0                  0.0   \n",
       "3                   0.0                   0.0                  1.0   \n",
       "4                   0.0                   0.0                  1.0   \n",
       "\n",
       "   APPLICATION_TYPE_T4  APPLICATION_TYPE_T5  APPLICATION_TYPE_T6  ...  \\\n",
       "0                  0.0                  0.0                  0.0  ...   \n",
       "1                  0.0                  0.0                  0.0  ...   \n",
       "2                  0.0                  1.0                  0.0  ...   \n",
       "3                  0.0                  0.0                  0.0  ...   \n",
       "4                  0.0                  0.0                  0.0  ...   \n",
       "\n",
       "   INCOME_AMT_1-9999  INCOME_AMT_10000-24999  INCOME_AMT_100000-499999  \\\n",
       "0                0.0                     0.0                       0.0   \n",
       "1                1.0                     0.0                       0.0   \n",
       "2                0.0                     0.0                       0.0   \n",
       "3                0.0                     1.0                       0.0   \n",
       "4                0.0                     0.0                       1.0   \n",
       "\n",
       "   INCOME_AMT_10M-50M  INCOME_AMT_1M-5M  INCOME_AMT_25000-99999  \\\n",
       "0                 0.0               0.0                     0.0   \n",
       "1                 0.0               0.0                     0.0   \n",
       "2                 0.0               0.0                     0.0   \n",
       "3                 0.0               0.0                     0.0   \n",
       "4                 0.0               0.0                     0.0   \n",
       "\n",
       "   INCOME_AMT_50M+  INCOME_AMT_5M-10M  SPECIAL_CONSIDERATIONS_N  \\\n",
       "0              0.0                0.0                       1.0   \n",
       "1              0.0                0.0                       1.0   \n",
       "2              0.0                0.0                       1.0   \n",
       "3              0.0                0.0                       1.0   \n",
       "4              0.0                0.0                       1.0   \n",
       "\n",
       "   SPECIAL_CONSIDERATIONS_Y  \n",
       "0                       0.0  \n",
       "1                       0.0  \n",
       "2                       0.0  \n",
       "3                       0.0  \n",
       "4                       0.0  \n",
       "\n",
       "[5 rows x 44 columns]"
      ]
     },
     "execution_count": 12,
     "metadata": {},
<<<<<<< HEAD
     "execution_count": 84
=======
     "output_type": "execute_result"
>>>>>>> 8d7fa2142bd7a86e5fa448db46b8032999331c4e
    }
   ],
   "source": [
    "# Merge one-hot encoded features and drop the originals\n",
    "application_merge_df = application_df.merge(encode_df, left_index=True, right_index=True).drop(application_cat,1)\n",
    "application_merge_df.head()"
   ]
  },
  {
   "cell_type": "code",
<<<<<<< HEAD
   "execution_count": 85,
=======
   "execution_count": 13,
   "metadata": {},
   "outputs": [],
>>>>>>> 8d7fa2142bd7a86e5fa448db46b8032999331c4e
   "source": [
    "# Split our preprocessed data into our features and target arrays\n",
    "y = application_merge_df[\"IS_SUCCESSFUL\"].values\n",
    "X = application_merge_df.drop([\"IS_SUCCESSFUL\"],1).values\n",
    "\n",
    "# Split the preprocessed data into a training and testing dataset\n",
    "X_train, X_test, y_train, y_test = train_test_split(X, y, random_state=42)"
   ]
  },
  {
   "cell_type": "code",
<<<<<<< HEAD
   "execution_count": 86,
=======
   "execution_count": 14,
   "metadata": {},
   "outputs": [],
>>>>>>> 8d7fa2142bd7a86e5fa448db46b8032999331c4e
   "source": [
    "# Create a StandardScaler instances\n",
    "scaler = StandardScaler()\n",
    "\n",
    "# Fit the StandardScaler\n",
    "X_scaler = scaler.fit(X_train)\n",
    "\n",
    "# Scale the data\n",
    "X_train_scaled = X_scaler.transform(X_train)\n",
    "X_test_scaled = X_scaler.transform(X_test)"
   ]
  },
  {
<<<<<<< HEAD
=======
   "cell_type": "code",
   "execution_count": 15,
   "metadata": {},
   "outputs": [
    {
     "data": {
      "text/plain": [
       "array([[ 0.01394306, -0.03099144, -0.09072362, ..., -0.07126932,\n",
       "         0.02858365, -0.02858365],\n",
       "       [ 0.01394306, -0.03145581, -0.09072362, ..., -0.07126932,\n",
       "         0.02858365, -0.02858365],\n",
       "       [ 0.01394306, -0.03145581, -0.09072362, ..., -0.07126932,\n",
       "         0.02858365, -0.02858365],\n",
       "       ...,\n",
       "       [ 0.01394306, -0.03145581, -0.09072362, ..., -0.07126932,\n",
       "         0.02858365, -0.02858365],\n",
       "       [ 0.01394306, -0.03091486, -0.09072362, ..., -0.07126932,\n",
       "         0.02858365, -0.02858365],\n",
       "       [ 0.01394306, -0.03145581, -0.09072362, ..., -0.07126932,\n",
       "         0.02858365, -0.02858365]])"
      ]
     },
     "execution_count": 15,
     "metadata": {},
     "output_type": "execute_result"
    }
   ],
   "source": [
    "X_test_scaled"
   ]
  },
  {
>>>>>>> 8d7fa2142bd7a86e5fa448db46b8032999331c4e
   "cell_type": "markdown",
   "metadata": {},
   "source": [
<<<<<<< HEAD
    "### Deliverable 3: Optimize the Model"
   ],
   "metadata": {}
  },
  {
   "cell_type": "code",
   "execution_count": 87,
=======
    "### Deliverable 2: Compile, Train and Evaluate the Model"
   ]
  },
  {
   "cell_type": "code",
   "execution_count": 16,
   "metadata": {},
   "outputs": [
    {
     "name": "stdout",
     "output_type": "stream",
     "text": [
      "WARNING:tensorflow:From /home/ec2-user/anaconda3/envs/amazonei_tensorflow_p36/lib/python3.6/site-packages/tensorflow_core/python/ops/resource_variable_ops.py:1630: calling BaseResourceVariable.__init__ (from tensorflow.python.ops.resource_variable_ops) with constraint is deprecated and will be removed in a future version.\n",
      "Instructions for updating:\n",
      "If using Keras pass *_constraint arguments to layers.\n",
      "Model: \"sequential\"\n",
      "_________________________________________________________________\n",
      "Layer (type)                 Output Shape              Param #   \n",
      "=================================================================\n",
      "dense (Dense)                (None, 80)                3520      \n",
      "_________________________________________________________________\n",
      "dense_1 (Dense)              (None, 30)                2430      \n",
      "_________________________________________________________________\n",
      "dense_2 (Dense)              (None, 1)                 31        \n",
      "=================================================================\n",
      "Total params: 5,981\n",
      "Trainable params: 5,981\n",
      "Non-trainable params: 0\n",
      "_________________________________________________________________\n"
     ]
    }
   ],
>>>>>>> 8d7fa2142bd7a86e5fa448db46b8032999331c4e
   "source": [
    "# Define the model - deep neural net, i.e., the number of input features and hidden nodes for each layer.\n",
    "number_input_features = len(X_train[0])\n",
    "hidden_nodes_layer1 = 100\n",
    "hidden_nodes_layer2 = 100\n",
    "hidden_nodes_layer3 = 100\n",
    "\n",
    "nn = tf.keras.models.Sequential()\n",
    "\n",
    "# First hidden layer\n",
    "nn.add(tf.keras.layers.Dense(units=hidden_nodes_layer1, input_dim=number_input_features, activation=\"relu\"))\n",
    "\n",
    "# Second hidden layer\n",
    "nn.add(tf.keras.layers.Dense(units=hidden_nodes_layer2, activation=\"relu\"))\n",
    "\n",
    "# Third hidden layer\n",
    "nn.add(tf.keras.layers.Dense(units=hidden_nodes_layer3, activation=\"relu\"))\n",
    "\n",
    "# Output layer\n",
    "nn.add(tf.keras.layers.Dense(units=1, activation=\"sigmoid\"))\n",
    "\n",
    "# Check the structure of the model\n",
    "nn.summary()"
   ]
  },
  {
   "cell_type": "code",
   "execution_count": 17,
   "metadata": {},
   "outputs": [
    {
     "name": "stdout",
     "output_type": "stream",
     "text": [
<<<<<<< HEAD
      "Model: \"sequential_4\"\n",
      "_________________________________________________________________\n",
      "Layer (type)                 Output Shape              Param #   \n",
      "=================================================================\n",
      "dense_15 (Dense)             (None, 100)               4300      \n",
      "_________________________________________________________________\n",
      "dense_16 (Dense)             (None, 100)               10100     \n",
      "_________________________________________________________________\n",
      "dense_17 (Dense)             (None, 100)               10100     \n",
      "_________________________________________________________________\n",
      "dense_18 (Dense)             (None, 100)               10100     \n",
      "_________________________________________________________________\n",
      "dense_19 (Dense)             (None, 1)                 101       \n",
      "=================================================================\n",
      "Total params: 34,701\n",
      "Trainable params: 34,701\n",
      "Non-trainable params: 0\n",
      "_________________________________________________________________\n"
     ]
    }
   ],
   "metadata": {}
  },
  {
   "cell_type": "code",
   "execution_count": 88,
=======
      "WARNING:tensorflow:From /home/ec2-user/anaconda3/envs/amazonei_tensorflow_p36/lib/python3.6/site-packages/tensorflow_core/python/ops/nn_impl.py:183: where (from tensorflow.python.ops.array_ops) is deprecated and will be removed in a future version.\n",
      "Instructions for updating:\n",
      "Use tf.where in 2.0, which has the same broadcast rule as np.where\n",
      "WARNING:tensorflow:`period` argument is deprecated. Please use `save_freq` to specify the frequency in number of samples seen.\n"
     ]
    }
   ],
>>>>>>> 8d7fa2142bd7a86e5fa448db46b8032999331c4e
   "source": [
    "# Compile the model\n",
    "nn.compile(loss=\"binary_crossentropy\", optimizer=\"Adam\", metrics=[\"accuracy\"])\n",
    "\n",
    "# Define the checkpoint path and filenames\n",
    "checkpoint_path = \"AlphabetSoupCharity_Optimization.hdf5\"\n",
    "\n",
    "# Create a callback that saves the model's weights every epoch\n",
    "from tensorflow.keras.callbacks import ModelCheckpoint\n",
    "\n",
    "cp_callback = ModelCheckpoint(\n",
    "    filepath=checkpoint_path,\n",
    "    verbose=1,\n",
    "    save_weights_only=True,\n",
    "    save_freq=\"epoch\",\n",
    "    period=5)"
   ]
  },
  {
   "cell_type": "code",
<<<<<<< HEAD
   "execution_count": 89,
   "source": [
    "# Train the model\n",
    "fit_model = nn.fit(X_train,y_train,epochs=100,callbacks=[cp_callback])"
   ],
=======
   "execution_count": 18,
   "metadata": {},
>>>>>>> 8d7fa2142bd7a86e5fa448db46b8032999331c4e
   "outputs": [
    {
     "name": "stdout",
     "output_type": "stream",
     "text": [
      "Train on 25724 samples\n",
      "Epoch 1/100\n",
<<<<<<< HEAD
      "804/804 [==============================] - 2s 2ms/step - loss: 0.5714 - accuracy: 0.7194\n",
      "Epoch 2/100\n",
      "804/804 [==============================] - 1s 2ms/step - loss: 0.5575 - accuracy: 0.7288\n",
      "Epoch 3/100\n",
      "804/804 [==============================] - 1s 2ms/step - loss: 0.5534 - accuracy: 0.7309\n",
      "Epoch 4/100\n",
      "804/804 [==============================] - 1s 2ms/step - loss: 0.5513 - accuracy: 0.7312\n",
      "Epoch 5/100\n",
      "804/804 [==============================] - 1s 2ms/step - loss: 0.5503 - accuracy: 0.7331\n",
      "\n",
      "Epoch 00005: saving model to AlphabetSoupCharity_Optimization.hdf5\n",
      "Epoch 6/100\n",
      "804/804 [==============================] - 2s 2ms/step - loss: 0.5489 - accuracy: 0.7337\n",
      "Epoch 7/100\n",
      "804/804 [==============================] - 2s 2ms/step - loss: 0.5477 - accuracy: 0.7341\n",
      "Epoch 8/100\n",
      "804/804 [==============================] - 1s 2ms/step - loss: 0.5464 - accuracy: 0.7348\n",
      "Epoch 9/100\n",
      "804/804 [==============================] - 1s 2ms/step - loss: 0.5451 - accuracy: 0.7358\n",
      "Epoch 10/100\n",
      "804/804 [==============================] - 1s 2ms/step - loss: 0.5443 - accuracy: 0.7355\n",
      "\n",
      "Epoch 00010: saving model to AlphabetSoupCharity_Optimization.hdf5\n",
      "Epoch 11/100\n",
      "804/804 [==============================] - 2s 2ms/step - loss: 0.5441 - accuracy: 0.7367\n",
      "Epoch 12/100\n",
      "804/804 [==============================] - 2s 2ms/step - loss: 0.5434 - accuracy: 0.7367\n",
      "Epoch 13/100\n",
      "804/804 [==============================] - 3s 3ms/step - loss: 0.5422 - accuracy: 0.7368\n",
      "Epoch 14/100\n",
      "804/804 [==============================] - 3s 4ms/step - loss: 0.5415 - accuracy: 0.7370\n",
      "Epoch 15/100\n",
      "804/804 [==============================] - 2s 3ms/step - loss: 0.5409 - accuracy: 0.7379\n",
      "\n",
      "Epoch 00015: saving model to AlphabetSoupCharity_Optimization.hdf5\n",
      "Epoch 16/100\n",
      "804/804 [==============================] - 3s 4ms/step - loss: 0.5401 - accuracy: 0.7391\n",
      "Epoch 17/100\n",
      "804/804 [==============================] - 3s 4ms/step - loss: 0.5395 - accuracy: 0.7386\n",
      "Epoch 18/100\n",
      "804/804 [==============================] - 2s 2ms/step - loss: 0.5386 - accuracy: 0.7395\n",
      "Epoch 19/100\n",
      "804/804 [==============================] - 3s 4ms/step - loss: 0.5389 - accuracy: 0.7381\n",
      "Epoch 20/100\n",
      "804/804 [==============================] - 3s 4ms/step - loss: 0.5375 - accuracy: 0.7397\n",
      "\n",
      "Epoch 00020: saving model to AlphabetSoupCharity_Optimization.hdf5\n",
      "Epoch 21/100\n",
      "804/804 [==============================] - 3s 4ms/step - loss: 0.5373 - accuracy: 0.7402\n",
      "Epoch 22/100\n",
      "804/804 [==============================] - 3s 4ms/step - loss: 0.5367 - accuracy: 0.7396\n",
      "Epoch 23/100\n",
      "804/804 [==============================] - 3s 4ms/step - loss: 0.5365 - accuracy: 0.7399\n",
      "Epoch 24/100\n",
      "804/804 [==============================] - 3s 3ms/step - loss: 0.5364 - accuracy: 0.7404\n",
      "Epoch 25/100\n",
      "804/804 [==============================] - 3s 4ms/step - loss: 0.5352 - accuracy: 0.7404\n",
      "\n",
      "Epoch 00025: saving model to AlphabetSoupCharity_Optimization.hdf5\n",
      "Epoch 26/100\n",
      "804/804 [==============================] - 3s 3ms/step - loss: 0.5347 - accuracy: 0.7407\n",
      "Epoch 27/100\n",
      "804/804 [==============================] - 3s 4ms/step - loss: 0.5340 - accuracy: 0.7396\n",
      "Epoch 28/100\n",
      "804/804 [==============================] - 2s 3ms/step - loss: 0.5341 - accuracy: 0.7409\n",
      "Epoch 29/100\n",
      "804/804 [==============================] - 2s 3ms/step - loss: 0.5335 - accuracy: 0.7407\n",
      "Epoch 30/100\n",
      "804/804 [==============================] - 3s 3ms/step - loss: 0.5332 - accuracy: 0.7415\n",
      "\n",
      "Epoch 00030: saving model to AlphabetSoupCharity_Optimization.hdf5\n",
      "Epoch 31/100\n",
      "804/804 [==============================] - 2s 3ms/step - loss: 0.5326 - accuracy: 0.7404\n",
      "Epoch 32/100\n",
      "804/804 [==============================] - 2s 3ms/step - loss: 0.5323 - accuracy: 0.7418\n",
      "Epoch 33/100\n",
      "804/804 [==============================] - 2s 3ms/step - loss: 0.5321 - accuracy: 0.7417\n",
      "Epoch 34/100\n",
      "804/804 [==============================] - 2s 3ms/step - loss: 0.5319 - accuracy: 0.7419\n",
      "Epoch 35/100\n",
      "804/804 [==============================] - 3s 3ms/step - loss: 0.5311 - accuracy: 0.7420\n",
      "\n",
      "Epoch 00035: saving model to AlphabetSoupCharity_Optimization.hdf5\n",
      "Epoch 36/100\n",
      "804/804 [==============================] - 2s 3ms/step - loss: 0.5319 - accuracy: 0.7413\n",
      "Epoch 37/100\n",
      "804/804 [==============================] - 3s 4ms/step - loss: 0.5306 - accuracy: 0.7416\n",
      "Epoch 38/100\n",
      "804/804 [==============================] - 3s 3ms/step - loss: 0.5307 - accuracy: 0.7428\n",
      "Epoch 39/100\n",
      "804/804 [==============================] - 2s 3ms/step - loss: 0.5296 - accuracy: 0.7425\n",
      "Epoch 40/100\n",
      "804/804 [==============================] - 2s 3ms/step - loss: 0.5297 - accuracy: 0.7421\n",
      "\n",
      "Epoch 00040: saving model to AlphabetSoupCharity_Optimization.hdf5\n",
      "Epoch 41/100\n",
      "804/804 [==============================] - 3s 3ms/step - loss: 0.5295 - accuracy: 0.7425\n",
      "Epoch 42/100\n",
      "804/804 [==============================] - 3s 4ms/step - loss: 0.5291 - accuracy: 0.7427\n",
      "Epoch 43/100\n",
      "804/804 [==============================] - 3s 3ms/step - loss: 0.5292 - accuracy: 0.7425\n",
      "Epoch 44/100\n",
      "804/804 [==============================] - 4s 5ms/step - loss: 0.5295 - accuracy: 0.7425\n",
      "Epoch 45/100\n",
      "804/804 [==============================] - 4s 5ms/step - loss: 0.5290 - accuracy: 0.7426\n",
      "\n",
      "Epoch 00045: saving model to AlphabetSoupCharity_Optimization.hdf5\n",
      "Epoch 46/100\n",
      "804/804 [==============================] - 5s 6ms/step - loss: 0.5284 - accuracy: 0.7434\n",
      "Epoch 47/100\n",
      "804/804 [==============================] - 4s 5ms/step - loss: 0.5282 - accuracy: 0.7432\n",
      "Epoch 48/100\n",
      "804/804 [==============================] - 5s 6ms/step - loss: 0.5284 - accuracy: 0.7425\n",
      "Epoch 49/100\n",
      "804/804 [==============================] - 5s 6ms/step - loss: 0.5286 - accuracy: 0.7430\n",
      "Epoch 50/100\n",
      "804/804 [==============================] - 5s 6ms/step - loss: 0.5281 - accuracy: 0.7425\n",
      "\n",
      "Epoch 00050: saving model to AlphabetSoupCharity_Optimization.hdf5\n",
      "Epoch 51/100\n",
      "804/804 [==============================] - 5s 6ms/step - loss: 0.5275 - accuracy: 0.7436\n",
      "Epoch 52/100\n",
      "804/804 [==============================] - 5s 6ms/step - loss: 0.5275 - accuracy: 0.7437\n",
      "Epoch 53/100\n",
      "804/804 [==============================] - 4s 5ms/step - loss: 0.5275 - accuracy: 0.7432\n",
      "Epoch 54/100\n",
      "804/804 [==============================] - 4s 5ms/step - loss: 0.5274 - accuracy: 0.7431\n",
      "Epoch 55/100\n",
      "804/804 [==============================] - 4s 5ms/step - loss: 0.5274 - accuracy: 0.7440\n",
      "\n",
      "Epoch 00055: saving model to AlphabetSoupCharity_Optimization.hdf5\n",
      "Epoch 56/100\n",
      "804/804 [==============================] - 2s 3ms/step - loss: 0.5275 - accuracy: 0.7439\n",
      "Epoch 57/100\n",
      "804/804 [==============================] - 3s 3ms/step - loss: 0.5270 - accuracy: 0.7435\n",
      "Epoch 58/100\n",
      "804/804 [==============================] - 2s 3ms/step - loss: 0.5263 - accuracy: 0.7436\n",
      "Epoch 59/100\n",
      "804/804 [==============================] - 2s 3ms/step - loss: 0.5264 - accuracy: 0.7435\n",
      "Epoch 60/100\n",
      "804/804 [==============================] - 2s 3ms/step - loss: 0.5271 - accuracy: 0.7434\n",
      "\n",
      "Epoch 00060: saving model to AlphabetSoupCharity_Optimization.hdf5\n",
      "Epoch 61/100\n",
      "804/804 [==============================] - 3s 3ms/step - loss: 0.5270 - accuracy: 0.7437\n",
      "Epoch 62/100\n",
      "804/804 [==============================] - 2s 3ms/step - loss: 0.5266 - accuracy: 0.7438\n",
      "Epoch 63/100\n",
      "804/804 [==============================] - 3s 4ms/step - loss: 0.5261 - accuracy: 0.7437\n",
      "Epoch 64/100\n",
      "804/804 [==============================] - 2s 3ms/step - loss: 0.5257 - accuracy: 0.7443\n",
      "Epoch 65/100\n",
      "804/804 [==============================] - 2s 3ms/step - loss: 0.5257 - accuracy: 0.7441\n",
      "\n",
      "Epoch 00065: saving model to AlphabetSoupCharity_Optimization.hdf5\n",
      "Epoch 66/100\n",
      "804/804 [==============================] - 2s 3ms/step - loss: 0.5270 - accuracy: 0.7439\n",
      "Epoch 67/100\n",
      "804/804 [==============================] - 2s 3ms/step - loss: 0.5282 - accuracy: 0.7436\n",
      "Epoch 68/100\n",
      "804/804 [==============================] - 2s 3ms/step - loss: 0.5256 - accuracy: 0.7443\n",
      "Epoch 69/100\n",
      "804/804 [==============================] - 2s 3ms/step - loss: 0.5253 - accuracy: 0.7440\n",
      "Epoch 70/100\n",
      "804/804 [==============================] - 3s 3ms/step - loss: 0.5253 - accuracy: 0.7444\n",
      "\n",
      "Epoch 00070: saving model to AlphabetSoupCharity_Optimization.hdf5\n",
      "Epoch 71/100\n",
      "804/804 [==============================] - 2s 3ms/step - loss: 0.5266 - accuracy: 0.7435\n",
      "Epoch 72/100\n",
      "804/804 [==============================] - 2s 3ms/step - loss: 0.5257 - accuracy: 0.7447\n",
      "Epoch 73/100\n",
      "804/804 [==============================] - 2s 3ms/step - loss: 0.5252 - accuracy: 0.7446\n",
      "Epoch 74/100\n",
      "804/804 [==============================] - 2s 3ms/step - loss: 0.5255 - accuracy: 0.7442\n",
      "Epoch 75/100\n",
      "804/804 [==============================] - 2s 3ms/step - loss: 0.5261 - accuracy: 0.7442\n",
      "\n",
      "Epoch 00075: saving model to AlphabetSoupCharity_Optimization.hdf5\n",
      "Epoch 76/100\n",
      "804/804 [==============================] - 2s 3ms/step - loss: 0.5251 - accuracy: 0.7446\n",
      "Epoch 77/100\n",
      "804/804 [==============================] - 2s 3ms/step - loss: 0.5254 - accuracy: 0.7444\n",
      "Epoch 78/100\n",
      "804/804 [==============================] - 2s 3ms/step - loss: 0.5258 - accuracy: 0.7440\n",
      "Epoch 79/100\n",
      "804/804 [==============================] - 2s 3ms/step - loss: 0.5266 - accuracy: 0.7440\n",
      "Epoch 80/100\n",
      "804/804 [==============================] - 2s 3ms/step - loss: 0.5254 - accuracy: 0.7435\n",
      "\n",
      "Epoch 00080: saving model to AlphabetSoupCharity_Optimization.hdf5\n",
      "Epoch 81/100\n",
      "804/804 [==============================] - 3s 3ms/step - loss: 0.5261 - accuracy: 0.7437\n",
      "Epoch 82/100\n",
      "804/804 [==============================] - 2s 3ms/step - loss: 0.5249 - accuracy: 0.7444\n",
      "Epoch 83/100\n",
      "804/804 [==============================] - 2s 3ms/step - loss: 0.5246 - accuracy: 0.7448\n",
      "Epoch 84/100\n",
      "804/804 [==============================] - 2s 3ms/step - loss: 0.5254 - accuracy: 0.7447\n",
      "Epoch 85/100\n",
      "804/804 [==============================] - 3s 4ms/step - loss: 0.5251 - accuracy: 0.7440\n",
      "\n",
      "Epoch 00085: saving model to AlphabetSoupCharity_Optimization.hdf5\n",
      "Epoch 86/100\n",
      "804/804 [==============================] - 3s 4ms/step - loss: 0.5262 - accuracy: 0.7442\n",
      "Epoch 87/100\n",
      "804/804 [==============================] - 2s 3ms/step - loss: 0.5255 - accuracy: 0.7447\n",
      "Epoch 88/100\n",
      "804/804 [==============================] - 3s 4ms/step - loss: 0.5256 - accuracy: 0.7441\n",
      "Epoch 89/100\n",
      "804/804 [==============================] - 3s 4ms/step - loss: 0.5250 - accuracy: 0.7442\n",
      "Epoch 90/100\n",
      "804/804 [==============================] - 3s 4ms/step - loss: 0.5247 - accuracy: 0.7442\n",
      "\n",
      "Epoch 00090: saving model to AlphabetSoupCharity_Optimization.hdf5\n",
      "Epoch 91/100\n",
      "804/804 [==============================] - 2s 3ms/step - loss: 0.5244 - accuracy: 0.7443\n",
      "Epoch 92/100\n",
      "804/804 [==============================] - 2s 3ms/step - loss: 0.5257 - accuracy: 0.7444\n",
      "Epoch 93/100\n",
      "804/804 [==============================] - 2s 3ms/step - loss: 0.5262 - accuracy: 0.7441\n",
      "Epoch 94/100\n",
      "804/804 [==============================] - 2s 3ms/step - loss: 0.5254 - accuracy: 0.7439\n",
      "Epoch 95/100\n",
      "804/804 [==============================] - 2s 3ms/step - loss: 0.5248 - accuracy: 0.7444\n",
      "\n",
      "Epoch 00095: saving model to AlphabetSoupCharity_Optimization.hdf5\n",
      "Epoch 96/100\n",
      "804/804 [==============================] - 2s 3ms/step - loss: 0.5243 - accuracy: 0.7448\n",
      "Epoch 97/100\n",
      "804/804 [==============================] - 2s 3ms/step - loss: 0.5244 - accuracy: 0.7448\n",
      "Epoch 98/100\n",
      "804/804 [==============================] - 2s 3ms/step - loss: 0.5254 - accuracy: 0.7432\n",
      "Epoch 99/100\n",
      "804/804 [==============================] - 2s 3ms/step - loss: 0.5251 - accuracy: 0.7439\n",
      "Epoch 100/100\n",
      "804/804 [==============================] - 2s 3ms/step - loss: 0.5251 - accuracy: 0.7446\n",
      "\n",
      "Epoch 00100: saving model to AlphabetSoupCharity_Optimization.hdf5\n"
=======
      "25724/25724 [==============================] - 4s 139us/sample - loss: 75804.5285 - acc: 0.4916\n",
      "Epoch 2/100\n",
      "25724/25724 [==============================] - 1s 40us/sample - loss: 66260.0125 - acc: 0.5027\n",
      "Epoch 3/100\n",
      "25724/25724 [==============================] - 1s 38us/sample - loss: 32469.3210 - acc: 0.5021\n",
      "Epoch 4/100\n",
      "25724/25724 [==============================] - 1s 39us/sample - loss: 31208.3429 - acc: 0.4916\n",
      "Epoch 5/100\n",
      "24448/25724 [===========================>..] - ETA: 0s - loss: 41677.4116 - acc: 0.4954\n",
      "Epoch 00005: saving model to AlphabetSoupCharity.hdf5\n",
      "25724/25724 [==============================] - 1s 40us/sample - loss: 41566.1392 - acc: 0.4933\n",
      "Epoch 6/100\n",
      "25724/25724 [==============================] - 1s 39us/sample - loss: 26985.3266 - acc: 0.4936\n",
      "Epoch 7/100\n",
      "25724/25724 [==============================] - 1s 39us/sample - loss: 17711.5707 - acc: 0.4951\n",
      "Epoch 8/100\n",
      "25724/25724 [==============================] - 1s 40us/sample - loss: 11333.7256 - acc: 0.5003\n",
      "Epoch 9/100\n",
      "25724/25724 [==============================] - 1s 39us/sample - loss: 14503.9800 - acc: 0.5097\n",
      "Epoch 10/100\n",
      "25408/25724 [============================>.] - ETA: 0s - loss: 6253.4384 - acc: 0.5067\n",
      "Epoch 00010: saving model to AlphabetSoupCharity.hdf5\n",
      "25724/25724 [==============================] - 1s 40us/sample - loss: 6339.8560 - acc: 0.5056\n",
      "Epoch 11/100\n",
      "25724/25724 [==============================] - 1s 41us/sample - loss: 20285.8581 - acc: 0.4871\n",
      "Epoch 12/100\n",
      "25724/25724 [==============================] - 1s 39us/sample - loss: 5714.4162 - acc: 0.5288\n",
      "Epoch 13/100\n",
      "25724/25724 [==============================] - 1s 37us/sample - loss: 8394.1821 - acc: 0.5056\n",
      "Epoch 14/100\n",
      "25724/25724 [==============================] - 1s 40us/sample - loss: 4644.7648 - acc: 0.5178\n",
      "Epoch 15/100\n",
      "25216/25724 [============================>.] - ETA: 0s - loss: 4826.5935 - acc: 0.5283\n",
      "Epoch 00015: saving model to AlphabetSoupCharity.hdf5\n",
      "25724/25724 [==============================] - 1s 39us/sample - loss: 4774.4430 - acc: 0.5276\n",
      "Epoch 16/100\n",
      "25724/25724 [==============================] - 1s 39us/sample - loss: 2279.9685 - acc: 0.5303\n",
      "Epoch 17/100\n",
      "25724/25724 [==============================] - 1s 40us/sample - loss: 5593.8823 - acc: 0.4902\n",
      "Epoch 18/100\n",
      "25724/25724 [==============================] - 1s 40us/sample - loss: 2448.6889 - acc: 0.5069\n",
      "Epoch 19/100\n",
      "25724/25724 [==============================] - 1s 39us/sample - loss: 3688.1946 - acc: 0.5006\n",
      "Epoch 20/100\n",
      "24992/25724 [============================>.] - ETA: 0s - loss: 7475.6425 - acc: 0.4913\n",
      "Epoch 00020: saving model to AlphabetSoupCharity.hdf5\n",
      "25724/25724 [==============================] - 1s 41us/sample - loss: 7320.4217 - acc: 0.4921\n",
      "Epoch 21/100\n",
      "25724/25724 [==============================] - 1s 41us/sample - loss: 2947.0866 - acc: 0.5189\n",
      "Epoch 22/100\n",
      "25724/25724 [==============================] - 1s 38us/sample - loss: 415.8339 - acc: 0.5040\n",
      "Epoch 23/100\n",
      "25724/25724 [==============================] - 1s 38us/sample - loss: 75.8992 - acc: 0.5281\n",
      "Epoch 24/100\n",
      "25724/25724 [==============================] - 1s 39us/sample - loss: 0.6469 - acc: 0.6162\n",
      "Epoch 25/100\n",
      "24896/25724 [============================>.] - ETA: 0s - loss: 0.6390 - acc: 0.6332\n",
      "Epoch 00025: saving model to AlphabetSoupCharity.hdf5\n",
      "25724/25724 [==============================] - 1s 39us/sample - loss: 0.6390 - acc: 0.6338\n",
      "Epoch 26/100\n",
      "25724/25724 [==============================] - 1s 39us/sample - loss: 0.6386 - acc: 0.6340\n",
      "Epoch 27/100\n",
      "25724/25724 [==============================] - 1s 39us/sample - loss: 0.6385 - acc: 0.6345\n",
      "Epoch 28/100\n",
      "25724/25724 [==============================] - 1s 41us/sample - loss: 0.6369 - acc: 0.6395\n",
      "Epoch 29/100\n",
      "25724/25724 [==============================] - 1s 40us/sample - loss: 0.6348 - acc: 0.6467\n",
      "Epoch 30/100\n",
      "24832/25724 [===========================>..] - ETA: 0s - loss: 0.6319 - acc: 0.6546\n",
      "Epoch 00030: saving model to AlphabetSoupCharity.hdf5\n",
      "25724/25724 [==============================] - 1s 39us/sample - loss: 0.6316 - acc: 0.6547\n",
      "Epoch 31/100\n",
      "25724/25724 [==============================] - 1s 41us/sample - loss: 0.6302 - acc: 0.6555\n",
      "Epoch 32/100\n",
      "25724/25724 [==============================] - 1s 40us/sample - loss: 0.6822 - acc: 0.5490\n",
      "Epoch 33/100\n",
      "25724/25724 [==============================] - 1s 39us/sample - loss: 0.6913 - acc: 0.5318\n",
      "Epoch 34/100\n",
      "25724/25724 [==============================] - 1s 39us/sample - loss: 0.6913 - acc: 0.5318\n",
      "Epoch 35/100\n",
      "24768/25724 [===========================>..] - ETA: 0s - loss: 0.6913 - acc: 0.5312\n",
      "Epoch 00035: saving model to AlphabetSoupCharity.hdf5\n",
      "25724/25724 [==============================] - 1s 39us/sample - loss: 0.6912 - acc: 0.5318\n",
      "Epoch 36/100\n",
      "25724/25724 [==============================] - 1s 39us/sample - loss: 0.6912 - acc: 0.5318\n",
      "Epoch 37/100\n",
      "25724/25724 [==============================] - 1s 40us/sample - loss: 0.6913 - acc: 0.5318\n",
      "Epoch 38/100\n",
      "25724/25724 [==============================] - 1s 40us/sample - loss: 0.6913 - acc: 0.5318\n",
      "Epoch 39/100\n",
      "25724/25724 [==============================] - 1s 39us/sample - loss: 0.6913 - acc: 0.5318\n",
      "Epoch 40/100\n",
      "24896/25724 [============================>.] - ETA: 0s - loss: 0.6912 - acc: 0.5323\n",
      "Epoch 00040: saving model to AlphabetSoupCharity.hdf5\n",
      "25724/25724 [==============================] - 1s 39us/sample - loss: 0.6913 - acc: 0.5318\n",
      "Epoch 41/100\n",
      "25724/25724 [==============================] - 1s 38us/sample - loss: 0.6913 - acc: 0.5318\n",
      "Epoch 42/100\n",
      "25724/25724 [==============================] - 1s 39us/sample - loss: 0.6914 - acc: 0.5318\n",
      "Epoch 43/100\n",
      "25724/25724 [==============================] - 1s 39us/sample - loss: 0.6913 - acc: 0.5318\n",
      "Epoch 44/100\n",
      "25724/25724 [==============================] - 1s 38us/sample - loss: 0.6913 - acc: 0.5318\n",
      "Epoch 45/100\n",
      "24672/25724 [===========================>..] - ETA: 0s - loss: 0.6913 - acc: 0.5319\n",
      "Epoch 00045: saving model to AlphabetSoupCharity.hdf5\n",
      "25724/25724 [==============================] - 1s 39us/sample - loss: 0.6914 - acc: 0.5318\n",
      "Epoch 46/100\n",
      "25724/25724 [==============================] - 1s 38us/sample - loss: 0.6912 - acc: 0.5318\n",
      "Epoch 47/100\n",
      "25724/25724 [==============================] - 1s 38us/sample - loss: 0.6914 - acc: 0.5318\n",
      "Epoch 48/100\n",
      "25724/25724 [==============================] - 1s 41us/sample - loss: 0.6913 - acc: 0.5318\n",
      "Epoch 49/100\n",
      "25724/25724 [==============================] - 1s 44us/sample - loss: 0.6913 - acc: 0.5318\n",
      "Epoch 50/100\n",
      "24864/25724 [===========================>..] - ETA: 0s - loss: 0.6912 - acc: 0.5323\n",
      "Epoch 00050: saving model to AlphabetSoupCharity.hdf5\n",
      "25724/25724 [==============================] - 1s 43us/sample - loss: 0.6913 - acc: 0.5318\n",
      "Epoch 51/100\n",
      "25724/25724 [==============================] - 1s 42us/sample - loss: 0.6913 - acc: 0.5318\n",
      "Epoch 52/100\n",
      "25724/25724 [==============================] - 1s 39us/sample - loss: 0.6913 - acc: 0.5318\n",
      "Epoch 53/100\n",
      "25724/25724 [==============================] - 1s 39us/sample - loss: 0.6913 - acc: 0.5318\n",
      "Epoch 54/100\n",
      "25724/25724 [==============================] - 1s 39us/sample - loss: 0.6914 - acc: 0.5318\n",
      "Epoch 55/100\n",
      "25088/25724 [============================>.] - ETA: 0s - loss: 0.6913 - acc: 0.5321\n",
      "Epoch 00055: saving model to AlphabetSoupCharity.hdf5\n",
      "25724/25724 [==============================] - 1s 39us/sample - loss: 0.6914 - acc: 0.5318\n",
      "Epoch 56/100\n",
      "25724/25724 [==============================] - 1s 38us/sample - loss: 0.6914 - acc: 0.5318\n",
      "Epoch 57/100\n",
      "25724/25724 [==============================] - 1s 39us/sample - loss: 0.6915 - acc: 0.5318\n",
      "Epoch 58/100\n",
      "25724/25724 [==============================] - 1s 39us/sample - loss: 0.6913 - acc: 0.5318\n",
      "Epoch 59/100\n",
      "25724/25724 [==============================] - 1s 39us/sample - loss: 0.6915 - acc: 0.5318\n",
      "Epoch 60/100\n",
      "25568/25724 [============================>.] - ETA: 0s - loss: 0.6913 - acc: 0.5320\n",
      "Epoch 00060: saving model to AlphabetSoupCharity.hdf5\n",
      "25724/25724 [==============================] - 1s 40us/sample - loss: 0.6914 - acc: 0.5318\n",
      "Epoch 61/100\n",
      "25724/25724 [==============================] - 1s 41us/sample - loss: 0.6913 - acc: 0.5318\n",
      "Epoch 62/100\n",
      "25724/25724 [==============================] - 1s 40us/sample - loss: 0.6914 - acc: 0.5284\n",
      "Epoch 63/100\n",
      "25724/25724 [==============================] - 1s 40us/sample - loss: 0.6914 - acc: 0.5318\n",
      "Epoch 64/100\n",
      "25724/25724 [==============================] - 1s 40us/sample - loss: 0.6914 - acc: 0.5318\n",
      "Epoch 65/100\n",
      "24864/25724 [===========================>..] - ETA: 0s - loss: 0.6913 - acc: 0.5318\n",
      "Epoch 00065: saving model to AlphabetSoupCharity.hdf5\n",
      "25724/25724 [==============================] - 1s 39us/sample - loss: 0.6913 - acc: 0.5318\n",
      "Epoch 66/100\n",
      "25724/25724 [==============================] - 1s 39us/sample - loss: 0.6914 - acc: 0.5318\n",
      "Epoch 67/100\n",
      "25724/25724 [==============================] - 1s 41us/sample - loss: 0.6913 - acc: 0.5318\n",
      "Epoch 68/100\n",
      "25724/25724 [==============================] - 1s 38us/sample - loss: 0.6915 - acc: 0.5318\n",
      "Epoch 69/100\n",
      "25724/25724 [==============================] - 1s 39us/sample - loss: 0.6915 - acc: 0.5318\n",
      "Epoch 70/100\n",
      "24736/25724 [===========================>..] - ETA: 0s - loss: 0.6913 - acc: 0.5313\n",
      "Epoch 00070: saving model to AlphabetSoupCharity.hdf5\n",
      "25724/25724 [==============================] - 1s 43us/sample - loss: 0.6914 - acc: 0.5318\n",
      "Epoch 71/100\n",
      "25724/25724 [==============================] - 1s 40us/sample - loss: 0.6914 - acc: 0.5318\n",
      "Epoch 72/100\n",
      "25724/25724 [==============================] - 1s 38us/sample - loss: 0.6914 - acc: 0.5318\n",
      "Epoch 73/100\n",
      "25724/25724 [==============================] - 1s 41us/sample - loss: 0.6914 - acc: 0.5318\n",
      "Epoch 74/100\n",
      "25724/25724 [==============================] - 1s 40us/sample - loss: 0.6914 - acc: 0.5318\n",
      "Epoch 75/100\n",
      "25664/25724 [============================>.] - ETA: 0s - loss: 0.6914 - acc: 0.5311\n",
      "Epoch 00075: saving model to AlphabetSoupCharity.hdf5\n",
      "25724/25724 [==============================] - 1s 40us/sample - loss: 0.6914 - acc: 0.5311\n",
      "Epoch 76/100\n",
      "25724/25724 [==============================] - 1s 39us/sample - loss: 0.6914 - acc: 0.5318\n",
      "Epoch 77/100\n",
      "25724/25724 [==============================] - 1s 39us/sample - loss: 0.6914 - acc: 0.5318\n",
      "Epoch 78/100\n",
      "25724/25724 [==============================] - 1s 40us/sample - loss: 0.6914 - acc: 0.5318\n",
      "Epoch 79/100\n",
      "25724/25724 [==============================] - 1s 40us/sample - loss: 0.6914 - acc: 0.5318\n",
      "Epoch 80/100\n",
      "24512/25724 [===========================>..] - ETA: 0s - loss: 0.6914 - acc: 0.5317\n",
      "Epoch 00080: saving model to AlphabetSoupCharity.hdf5\n",
      "25724/25724 [==============================] - 1s 40us/sample - loss: 0.6913 - acc: 0.5318\n",
      "Epoch 81/100\n",
      "25724/25724 [==============================] - 1s 39us/sample - loss: 0.6915 - acc: 0.5318\n",
      "Epoch 82/100\n",
      "25724/25724 [==============================] - 1s 39us/sample - loss: 0.6914 - acc: 0.5318\n",
      "Epoch 83/100\n",
      "25724/25724 [==============================] - 1s 40us/sample - loss: 0.6914 - acc: 0.5318\n",
      "Epoch 84/100\n",
      "25724/25724 [==============================] - 1s 39us/sample - loss: 0.6914 - acc: 0.5318\n",
      "Epoch 85/100\n",
      "25376/25724 [============================>.] - ETA: 0s - loss: 0.6914 - acc: 0.5314\n",
      "Epoch 00085: saving model to AlphabetSoupCharity.hdf5\n",
      "25724/25724 [==============================] - 1s 40us/sample - loss: 0.6914 - acc: 0.5318\n",
      "Epoch 86/100\n",
      "25724/25724 [==============================] - 1s 41us/sample - loss: 0.6914 - acc: 0.5318\n",
      "Epoch 87/100\n",
      "25724/25724 [==============================] - 1s 41us/sample - loss: 0.6914 - acc: 0.5318\n",
      "Epoch 88/100\n",
      "25724/25724 [==============================] - 1s 44us/sample - loss: 0.6913 - acc: 0.5318\n",
      "Epoch 89/100\n",
      "25724/25724 [==============================] - 1s 42us/sample - loss: 0.6914 - acc: 0.5318\n",
      "Epoch 90/100\n",
      "24736/25724 [===========================>..] - ETA: 0s - loss: 0.6914 - acc: 0.5314\n",
      "Epoch 00090: saving model to AlphabetSoupCharity.hdf5\n",
      "25724/25724 [==============================] - 1s 43us/sample - loss: 0.6913 - acc: 0.5318\n",
      "Epoch 91/100\n",
      "25724/25724 [==============================] - 1s 42us/sample - loss: 0.6912 - acc: 0.5318\n",
      "Epoch 92/100\n",
      "25724/25724 [==============================] - 1s 42us/sample - loss: 0.6914 - acc: 0.5318\n",
      "Epoch 93/100\n",
      "25724/25724 [==============================] - 1s 40us/sample - loss: 0.6914 - acc: 0.5318\n",
      "Epoch 94/100\n",
      "25724/25724 [==============================] - 1s 39us/sample - loss: 0.6914 - acc: 0.5318\n",
      "Epoch 95/100\n",
      "25024/25724 [============================>.] - ETA: 0s - loss: 0.6913 - acc: 0.5322\n",
      "Epoch 00095: saving model to AlphabetSoupCharity.hdf5\n",
      "25724/25724 [==============================] - 1s 43us/sample - loss: 0.6913 - acc: 0.5318\n",
      "Epoch 96/100\n",
      "25724/25724 [==============================] - 1s 40us/sample - loss: 0.6913 - acc: 0.5318\n",
      "Epoch 97/100\n",
      "25724/25724 [==============================] - 1s 47us/sample - loss: 0.6914 - acc: 0.5318\n",
      "Epoch 98/100\n",
      "25724/25724 [==============================] - 1s 40us/sample - loss: 0.6911 - acc: 0.5318\n",
      "Epoch 99/100\n",
      "25724/25724 [==============================] - 1s 54us/sample - loss: 0.6916 - acc: 0.5318\n",
      "Epoch 100/100\n",
      "24992/25724 [============================>.] - ETA: 0s - loss: 0.6913 - acc: 0.5324\n",
      "Epoch 00100: saving model to AlphabetSoupCharity.hdf5\n",
      "25724/25724 [==============================] - 1s 52us/sample - loss: 0.6913 - acc: 0.5318\n"
>>>>>>> 8d7fa2142bd7a86e5fa448db46b8032999331c4e
     ]
    }
   ],
   "source": [
    "# Train the model\n",
    "fit_model = nn.fit(X_train,y_train,epochs=100,callbacks=[cp_callback])"
   ]
  },
  {
   "cell_type": "code",
<<<<<<< HEAD
   "execution_count": 91,
=======
   "execution_count": 19,
   "metadata": {},
   "outputs": [
    {
     "name": "stdout",
     "output_type": "stream",
     "text": [
      "8575/8575 - 0s - loss: 0.8634 - acc: 0.6594\n",
      "Loss: 0.8633505691453249, Accuracy: 0.6593586206436157\n"
     ]
    }
   ],
>>>>>>> 8d7fa2142bd7a86e5fa448db46b8032999331c4e
   "source": [
    "# Evaluate the model using the test data\n",
    "model_loss, model_accuracy = nn.evaluate(X_test_scaled,y_test,verbose=2)\n",
    "print(f\"Loss: {model_loss}, Accuracy: {model_accuracy}\")"
   ]
  },
  {
   "cell_type": "code",
   "execution_count": 21,
   "metadata": {},
   "outputs": [
    {
     "name": "stdout",
     "output_type": "stream",
     "text": [
<<<<<<< HEAD
      "268/268 - 0s - loss: 33.8223 - accuracy: 0.6111\n",
      "Loss: 33.82225799560547, Accuracy: 0.6110787391662598\n"
=======
      "Username for 'https://github.com/christopher-ko-law/Neural_Network_Charity_Analysis': ^C\n"
>>>>>>> 8d7fa2142bd7a86e5fa448db46b8032999331c4e
     ]
    }
   ],
   "source": [
    "!git push"
   ]
  },
  {
   "cell_type": "code",
   "execution_count": null,
   "metadata": {},
   "outputs": [],
   "source": []
  },
  {
   "cell_type": "code",
   "execution_count": null,
   "metadata": {},
   "outputs": [],
   "source": []
  }
 ],
 "metadata": {
  "interpreter": {
   "hash": "ba2a6a8a995916b76df4c70ab74a06948c1b97f82b388604399e8f2a5289c724"
  },
  "kernelspec": {
   "display_name": "conda_amazonei_tensorflow_p36",
   "language": "python",
   "name": "conda_amazonei_tensorflow_p36"
  },
  "language_info": {
   "codemirror_mode": {
    "name": "ipython",
    "version": 3
   },
   "file_extension": ".py",
   "mimetype": "text/x-python",
   "name": "python",
   "nbconvert_exporter": "python",
   "pygments_lexer": "ipython3",
   "version": "3.6.10"
  }
 },
 "nbformat": 4,
 "nbformat_minor": 4
}
